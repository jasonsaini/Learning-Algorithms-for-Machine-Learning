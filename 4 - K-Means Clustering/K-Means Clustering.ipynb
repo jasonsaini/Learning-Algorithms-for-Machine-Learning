{
 "cells": [
  {
   "cell_type": "code",
   "execution_count": 1,
   "id": "62b9163c",
   "metadata": {},
   "outputs": [],
   "source": [
    "# This jupyter notebook is prepared by Jason Saini."
   ]
  },
  {
   "cell_type": "markdown",
   "id": "51e977b7",
   "metadata": {},
   "source": [
    "## Load Data and perform basic EDA"
   ]
  },
  {
   "cell_type": "code",
   "execution_count": 2,
   "id": "ee2ca1f7",
   "metadata": {},
   "outputs": [],
   "source": [
    "# import libraries\n",
    "import pandas as pd\n",
    "import numpy as np\n",
    "\n",
    "%matplotlib inline\n",
    "import matplotlib.pyplot as plt\n",
    "\n",
    "import seaborn as sns\n",
    "import missingno as msno\n",
    "from scipy import stats\n",
    "\n",
    "import sklearn"
   ]
  },
  {
   "cell_type": "code",
   "execution_count": 3,
   "id": "6a17cea2",
   "metadata": {},
   "outputs": [
    {
     "name": "stdout",
     "output_type": "stream",
     "text": [
      "Number of rows: 12977\n",
      "Number of cols: 8\n"
     ]
    }
   ],
   "source": [
    "# import data into df and show row and column count\n",
    "df = pd.read_csv(\"hrdata3.csv\")\n",
    "print(\"Number of rows: \" + str(df.shape[0]))\n",
    "print(\"Number of cols: \" + str(df.shape[1]))"
   ]
  },
  {
   "cell_type": "code",
   "execution_count": 4,
   "id": "71e64cd0",
   "metadata": {},
   "outputs": [],
   "source": [
    "df = df.drop(labels= [\"Unnamed: 0\"], axis = 1)"
   ]
  },
  {
   "cell_type": "code",
   "execution_count": 5,
   "id": "415609b6",
   "metadata": {},
   "outputs": [
    {
     "data": {
      "text/html": [
       "<div>\n",
       "<style scoped>\n",
       "    .dataframe tbody tr th:only-of-type {\n",
       "        vertical-align: middle;\n",
       "    }\n",
       "\n",
       "    .dataframe tbody tr th {\n",
       "        vertical-align: top;\n",
       "    }\n",
       "\n",
       "    .dataframe thead th {\n",
       "        text-align: right;\n",
       "    }\n",
       "</style>\n",
       "<table border=\"1\" class=\"dataframe\">\n",
       "  <thead>\n",
       "    <tr style=\"text-align: right;\">\n",
       "      <th></th>\n",
       "      <th>enrollee_id</th>\n",
       "      <th>city_development_index</th>\n",
       "      <th>experience</th>\n",
       "      <th>company_size</th>\n",
       "      <th>last_new_job</th>\n",
       "      <th>training_hours</th>\n",
       "      <th>target</th>\n",
       "    </tr>\n",
       "  </thead>\n",
       "  <tbody>\n",
       "    <tr>\n",
       "      <th>0</th>\n",
       "      <td>29725</td>\n",
       "      <td>0.776</td>\n",
       "      <td>15</td>\n",
       "      <td>2</td>\n",
       "      <td>5</td>\n",
       "      <td>47</td>\n",
       "      <td>0.0</td>\n",
       "    </tr>\n",
       "    <tr>\n",
       "      <th>1</th>\n",
       "      <td>666</td>\n",
       "      <td>0.767</td>\n",
       "      <td>21</td>\n",
       "      <td>2</td>\n",
       "      <td>4</td>\n",
       "      <td>8</td>\n",
       "      <td>0.0</td>\n",
       "    </tr>\n",
       "    <tr>\n",
       "      <th>2</th>\n",
       "      <td>28806</td>\n",
       "      <td>0.920</td>\n",
       "      <td>5</td>\n",
       "      <td>2</td>\n",
       "      <td>1</td>\n",
       "      <td>24</td>\n",
       "      <td>0.0</td>\n",
       "    </tr>\n",
       "    <tr>\n",
       "      <th>3</th>\n",
       "      <td>402</td>\n",
       "      <td>0.762</td>\n",
       "      <td>13</td>\n",
       "      <td>0</td>\n",
       "      <td>5</td>\n",
       "      <td>18</td>\n",
       "      <td>1.0</td>\n",
       "    </tr>\n",
       "    <tr>\n",
       "      <th>4</th>\n",
       "      <td>27107</td>\n",
       "      <td>0.920</td>\n",
       "      <td>7</td>\n",
       "      <td>2</td>\n",
       "      <td>1</td>\n",
       "      <td>46</td>\n",
       "      <td>1.0</td>\n",
       "    </tr>\n",
       "  </tbody>\n",
       "</table>\n",
       "</div>"
      ],
      "text/plain": [
       "   enrollee_id  city_development_index  experience  company_size  \\\n",
       "0        29725                   0.776          15             2   \n",
       "1          666                   0.767          21             2   \n",
       "2        28806                   0.920           5             2   \n",
       "3          402                   0.762          13             0   \n",
       "4        27107                   0.920           7             2   \n",
       "\n",
       "   last_new_job  training_hours  target  \n",
       "0             5              47     0.0  \n",
       "1             4               8     0.0  \n",
       "2             1              24     0.0  \n",
       "3             5              18     1.0  \n",
       "4             1              46     1.0  "
      ]
     },
     "execution_count": 5,
     "metadata": {},
     "output_type": "execute_result"
    }
   ],
   "source": [
    "# show top 5 rows \n",
    "df.head()"
   ]
  },
  {
   "cell_type": "code",
   "execution_count": 6,
   "id": "0041a942",
   "metadata": {},
   "outputs": [
    {
     "data": {
      "text/html": [
       "<div>\n",
       "<style scoped>\n",
       "    .dataframe tbody tr th:only-of-type {\n",
       "        vertical-align: middle;\n",
       "    }\n",
       "\n",
       "    .dataframe tbody tr th {\n",
       "        vertical-align: top;\n",
       "    }\n",
       "\n",
       "    .dataframe thead th {\n",
       "        text-align: right;\n",
       "    }\n",
       "</style>\n",
       "<table border=\"1\" class=\"dataframe\">\n",
       "  <thead>\n",
       "    <tr style=\"text-align: right;\">\n",
       "      <th></th>\n",
       "      <th>enrollee_id</th>\n",
       "      <th>city_development_index</th>\n",
       "      <th>experience</th>\n",
       "      <th>company_size</th>\n",
       "      <th>last_new_job</th>\n",
       "      <th>training_hours</th>\n",
       "      <th>target</th>\n",
       "    </tr>\n",
       "  </thead>\n",
       "  <tbody>\n",
       "    <tr>\n",
       "      <th>12972</th>\n",
       "      <td>251</td>\n",
       "      <td>0.920</td>\n",
       "      <td>9</td>\n",
       "      <td>2</td>\n",
       "      <td>1</td>\n",
       "      <td>36</td>\n",
       "      <td>1.0</td>\n",
       "    </tr>\n",
       "    <tr>\n",
       "      <th>12973</th>\n",
       "      <td>32313</td>\n",
       "      <td>0.920</td>\n",
       "      <td>10</td>\n",
       "      <td>3</td>\n",
       "      <td>3</td>\n",
       "      <td>23</td>\n",
       "      <td>0.0</td>\n",
       "    </tr>\n",
       "    <tr>\n",
       "      <th>12974</th>\n",
       "      <td>29754</td>\n",
       "      <td>0.920</td>\n",
       "      <td>7</td>\n",
       "      <td>1</td>\n",
       "      <td>1</td>\n",
       "      <td>25</td>\n",
       "      <td>0.0</td>\n",
       "    </tr>\n",
       "    <tr>\n",
       "      <th>12975</th>\n",
       "      <td>24576</td>\n",
       "      <td>0.920</td>\n",
       "      <td>21</td>\n",
       "      <td>2</td>\n",
       "      <td>4</td>\n",
       "      <td>44</td>\n",
       "      <td>0.0</td>\n",
       "    </tr>\n",
       "    <tr>\n",
       "      <th>12976</th>\n",
       "      <td>5756</td>\n",
       "      <td>0.802</td>\n",
       "      <td>0</td>\n",
       "      <td>4</td>\n",
       "      <td>2</td>\n",
       "      <td>97</td>\n",
       "      <td>0.0</td>\n",
       "    </tr>\n",
       "  </tbody>\n",
       "</table>\n",
       "</div>"
      ],
      "text/plain": [
       "       enrollee_id  city_development_index  experience  company_size  \\\n",
       "12972          251                   0.920           9             2   \n",
       "12973        32313                   0.920          10             3   \n",
       "12974        29754                   0.920           7             1   \n",
       "12975        24576                   0.920          21             2   \n",
       "12976         5756                   0.802           0             4   \n",
       "\n",
       "       last_new_job  training_hours  target  \n",
       "12972             1              36     1.0  \n",
       "12973             3              23     0.0  \n",
       "12974             1              25     0.0  \n",
       "12975             4              44     0.0  \n",
       "12976             2              97     0.0  "
      ]
     },
     "execution_count": 6,
     "metadata": {},
     "output_type": "execute_result"
    }
   ],
   "source": [
    "# show last 5 rows\n",
    "df.tail()"
   ]
  },
  {
   "cell_type": "code",
   "execution_count": 7,
   "id": "e7153be1",
   "metadata": {},
   "outputs": [
    {
     "data": {
      "text/plain": [
       "False"
      ]
     },
     "execution_count": 7,
     "metadata": {},
     "output_type": "execute_result"
    }
   ],
   "source": [
    "# check for null values\n",
    "df.isnull().values.any()"
   ]
  },
  {
   "cell_type": "markdown",
   "id": "2fe1f120",
   "metadata": {},
   "source": [
    "### No null values"
   ]
  },
  {
   "cell_type": "code",
   "execution_count": 8,
   "id": "d587e4c8",
   "metadata": {},
   "outputs": [],
   "source": [
    "# check type of data in columns"
   ]
  },
  {
   "cell_type": "code",
   "execution_count": 9,
   "id": "ac5f784b",
   "metadata": {},
   "outputs": [
    {
     "data": {
      "text/plain": [
       "enrollee_id                 int64\n",
       "city_development_index    float64\n",
       "experience                  int64\n",
       "company_size                int64\n",
       "last_new_job                int64\n",
       "training_hours              int64\n",
       "target                    float64\n",
       "dtype: object"
      ]
     },
     "execution_count": 9,
     "metadata": {},
     "output_type": "execute_result"
    }
   ],
   "source": [
    "df.dtypes"
   ]
  },
  {
   "cell_type": "markdown",
   "id": "582a1e11",
   "metadata": {},
   "source": [
    "### All columns are numeric"
   ]
  },
  {
   "cell_type": "code",
   "execution_count": 10,
   "id": "38aca066",
   "metadata": {},
   "outputs": [
    {
     "data": {
      "image/png": "[encoded data removed]",
      "text/plain": [
       "<Figure size 432x288 with 2 Axes>"
      ]
     },
     "metadata": {
      "needs_background": "light"
     },
     "output_type": "display_data"
    }
   ],
   "source": [
    "# heatmap with correlations\n",
    "sns.heatmap(df.corr(), annot=True)\n",
    "plt.show()"
   ]
  },
  {
   "cell_type": "markdown",
   "id": "3da0f9a3",
   "metadata": {},
   "source": [
    "## Feature Selection & Pre-processing"
   ]
  },
  {
   "cell_type": "code",
   "execution_count": 11,
   "id": "baf28cf3",
   "metadata": {},
   "outputs": [
    {
     "data": {
      "text/html": [
       "<div>\n",
       "<style scoped>\n",
       "    .dataframe tbody tr th:only-of-type {\n",
       "        vertical-align: middle;\n",
       "    }\n",
       "\n",
       "    .dataframe tbody tr th {\n",
       "        vertical-align: top;\n",
       "    }\n",
       "\n",
       "    .dataframe thead th {\n",
       "        text-align: right;\n",
       "    }\n",
       "</style>\n",
       "<table border=\"1\" class=\"dataframe\">\n",
       "  <thead>\n",
       "    <tr style=\"text-align: right;\">\n",
       "      <th></th>\n",
       "      <th>city_development_index</th>\n",
       "      <th>experience</th>\n",
       "      <th>company_size</th>\n",
       "      <th>last_new_job</th>\n",
       "      <th>training_hours</th>\n",
       "    </tr>\n",
       "  </thead>\n",
       "  <tbody>\n",
       "    <tr>\n",
       "      <th>0</th>\n",
       "      <td>0.776</td>\n",
       "      <td>15</td>\n",
       "      <td>2</td>\n",
       "      <td>5</td>\n",
       "      <td>47</td>\n",
       "    </tr>\n",
       "    <tr>\n",
       "      <th>1</th>\n",
       "      <td>0.767</td>\n",
       "      <td>21</td>\n",
       "      <td>2</td>\n",
       "      <td>4</td>\n",
       "      <td>8</td>\n",
       "    </tr>\n",
       "    <tr>\n",
       "      <th>2</th>\n",
       "      <td>0.920</td>\n",
       "      <td>5</td>\n",
       "      <td>2</td>\n",
       "      <td>1</td>\n",
       "      <td>24</td>\n",
       "    </tr>\n",
       "    <tr>\n",
       "      <th>3</th>\n",
       "      <td>0.762</td>\n",
       "      <td>13</td>\n",
       "      <td>0</td>\n",
       "      <td>5</td>\n",
       "      <td>18</td>\n",
       "    </tr>\n",
       "    <tr>\n",
       "      <th>4</th>\n",
       "      <td>0.920</td>\n",
       "      <td>7</td>\n",
       "      <td>2</td>\n",
       "      <td>1</td>\n",
       "      <td>46</td>\n",
       "    </tr>\n",
       "    <tr>\n",
       "      <th>...</th>\n",
       "      <td>...</td>\n",
       "      <td>...</td>\n",
       "      <td>...</td>\n",
       "      <td>...</td>\n",
       "      <td>...</td>\n",
       "    </tr>\n",
       "    <tr>\n",
       "      <th>12972</th>\n",
       "      <td>0.920</td>\n",
       "      <td>9</td>\n",
       "      <td>2</td>\n",
       "      <td>1</td>\n",
       "      <td>36</td>\n",
       "    </tr>\n",
       "    <tr>\n",
       "      <th>12973</th>\n",
       "      <td>0.920</td>\n",
       "      <td>10</td>\n",
       "      <td>3</td>\n",
       "      <td>3</td>\n",
       "      <td>23</td>\n",
       "    </tr>\n",
       "    <tr>\n",
       "      <th>12974</th>\n",
       "      <td>0.920</td>\n",
       "      <td>7</td>\n",
       "      <td>1</td>\n",
       "      <td>1</td>\n",
       "      <td>25</td>\n",
       "    </tr>\n",
       "    <tr>\n",
       "      <th>12975</th>\n",
       "      <td>0.920</td>\n",
       "      <td>21</td>\n",
       "      <td>2</td>\n",
       "      <td>4</td>\n",
       "      <td>44</td>\n",
       "    </tr>\n",
       "    <tr>\n",
       "      <th>12976</th>\n",
       "      <td>0.802</td>\n",
       "      <td>0</td>\n",
       "      <td>4</td>\n",
       "      <td>2</td>\n",
       "      <td>97</td>\n",
       "    </tr>\n",
       "  </tbody>\n",
       "</table>\n",
       "<p>12977 rows × 5 columns</p>\n",
       "</div>"
      ],
      "text/plain": [
       "       city_development_index  experience  company_size  last_new_job  \\\n",
       "0                       0.776          15             2             5   \n",
       "1                       0.767          21             2             4   \n",
       "2                       0.920           5             2             1   \n",
       "3                       0.762          13             0             5   \n",
       "4                       0.920           7             2             1   \n",
       "...                       ...         ...           ...           ...   \n",
       "12972                   0.920           9             2             1   \n",
       "12973                   0.920          10             3             3   \n",
       "12974                   0.920           7             1             1   \n",
       "12975                   0.920          21             2             4   \n",
       "12976                   0.802           0             4             2   \n",
       "\n",
       "       training_hours  \n",
       "0                  47  \n",
       "1                   8  \n",
       "2                  24  \n",
       "3                  18  \n",
       "4                  46  \n",
       "...               ...  \n",
       "12972              36  \n",
       "12973              23  \n",
       "12974              25  \n",
       "12975              44  \n",
       "12976              97  \n",
       "\n",
       "[12977 rows x 5 columns]"
      ]
     },
     "execution_count": 11,
     "metadata": {},
     "output_type": "execute_result"
    }
   ],
   "source": [
    "# Put all the data into X except the enrollee_id and target cols\n",
    "X = df.drop(labels = [\"enrollee_id\", \"target\"], axis = 1)\n",
    "X"
   ]
  },
  {
   "cell_type": "code",
   "execution_count": 12,
   "id": "60f4bc19",
   "metadata": {},
   "outputs": [],
   "source": [
    "# perform feature scaling with standard scaler\n",
    "from sklearn.preprocessing import StandardScaler\n",
    "scaler = StandardScaler()\n",
    "scaler.fit_transform(X)\n",
    "X_scaled = scaler.transform(X)\n",
    "X_inverse = inversed = scaler.inverse_transform(X_scaled)"
   ]
  },
  {
   "cell_type": "code",
   "execution_count": 13,
   "id": "ab043eb4",
   "metadata": {},
   "outputs": [
    {
     "name": "stdout",
     "output_type": "stream",
     "text": [
      "[[-0.50342203  0.63395707 -0.5747232   1.69076217 -0.30839586]\n",
      " [-0.57841303  1.54600905 -0.5747232   1.08113696 -0.95180478]\n",
      " [ 0.69643399 -0.88612956 -0.5747232  -0.74773864 -0.68784215]\n",
      " ...\n",
      " [ 0.69643399 -0.58211224 -1.0314958  -0.74773864 -0.67134448]\n",
      " [ 0.69643399  1.54600905 -0.5747232   1.08113696 -0.35788885]\n",
      " [-0.28678136 -1.64617288  0.338822   -0.13811344  0.51648738]]\n"
     ]
    }
   ],
   "source": [
    "# data after scaling\n",
    "print(X_scaled)"
   ]
  },
  {
   "cell_type": "code",
   "execution_count": 14,
   "id": "c804c8bc",
   "metadata": {},
   "outputs": [
    {
     "name": "stdout",
     "output_type": "stream",
     "text": [
      "[[ 0.776 15.     2.     5.    47.   ]\n",
      " [ 0.767 21.     2.     4.     8.   ]\n",
      " [ 0.92   5.     2.     1.    24.   ]\n",
      " ...\n",
      " [ 0.92   7.     1.     1.    25.   ]\n",
      " [ 0.92  21.     2.     4.    44.   ]\n",
      " [ 0.802  0.     4.     2.    97.   ]]\n"
     ]
    }
   ],
   "source": [
    "# inverse data\n",
    "print(X_inverse)"
   ]
  },
  {
   "cell_type": "markdown",
   "id": "8f235d32",
   "metadata": {},
   "source": [
    "## K-Means Clustering"
   ]
  },
  {
   "cell_type": "code",
   "execution_count": 15,
   "id": "d2167179",
   "metadata": {},
   "outputs": [],
   "source": [
    "# perform K-means on scaled X\n",
    "from sklearn.cluster import KMeans\n",
    "kmeans = KMeans(n_clusters = 2,  init='k-means++', random_state  = 47)\n",
    "kmeans.fit(X_scaled)\n",
    "\n",
    "identified_clusters = kmeans.fit_predict(X_scaled)"
   ]
  },
  {
   "cell_type": "code",
   "execution_count": 16,
   "id": "29bb2e85",
   "metadata": {},
   "outputs": [
    {
     "data": {
      "text/plain": [
       "array([[-0.31364817, -0.63941844, -0.15207764, -0.55076921,  0.01170319],\n",
       "       [ 0.44177356,  0.90062111,  0.21420141,  0.77575864, -0.01648395]])"
      ]
     },
     "execution_count": 16,
     "metadata": {},
     "output_type": "execute_result"
    }
   ],
   "source": [
    "# show centers\n",
    "centers = np.array(kmeans.cluster_centers_)\n",
    "centers"
   ]
  },
  {
   "cell_type": "code",
   "execution_count": 17,
   "id": "6cb8736f",
   "metadata": {},
   "outputs": [
    {
     "data": {
      "text/plain": [
       "array([[-0.31364817, -0.63941844, -0.15207764, -0.55076921,  0.01170319],\n",
       "       [ 0.44177356,  0.90062111,  0.21420141,  0.77575864, -0.01648395]])"
      ]
     },
     "execution_count": 17,
     "metadata": {},
     "output_type": "execute_result"
    }
   ],
   "source": [
    "kmeans.fit_transform(X_inverse)\n",
    "identified_clusters = kmeans.predict(X_inverse)\n",
    "\n",
    "inverse_centers = np.array(kmeans.cluster_centers_)\n",
    "centers"
   ]
  },
  {
   "cell_type": "code",
   "execution_count": 18,
   "id": "e1cac020",
   "metadata": {},
   "outputs": [
    {
     "data": {
      "text/plain": [
       "array([[ 43.69151759, 168.00630426],\n",
       "       [ 44.12758707, 168.59929545],\n",
       "       [ 44.51209207, 168.50327225],\n",
       "       ...,\n",
       "       [ 44.45902944, 168.47687337],\n",
       "       [ 43.52726139, 168.0005649 ],\n",
       "       [ 43.47635774, 167.33315519]])"
      ]
     },
     "execution_count": 18,
     "metadata": {},
     "output_type": "execute_result"
    }
   ],
   "source": [
    "# distance matrix\n",
    "kmeans.transform(X_scaled)"
   ]
  },
  {
   "cell_type": "code",
   "execution_count": 19,
   "id": "9d451b8a",
   "metadata": {},
   "outputs": [],
   "source": [
    "# labels\n",
    "identfied_clusters = kmeans.labels_"
   ]
  },
  {
   "cell_type": "code",
   "execution_count": 20,
   "id": "f7dd979b",
   "metadata": {},
   "outputs": [],
   "source": [
    "# add cluster labels columns and assign for instances based on K-means label\n",
    "df_with_clusters = df.copy()\n",
    "df_with_clusters[\"cluster_labels\"] = identified_clusters"
   ]
  },
  {
   "cell_type": "code",
   "execution_count": 21,
   "id": "f92797fd",
   "metadata": {},
   "outputs": [],
   "source": [
    "# add a column for target values as int so we can compare to cluster labels\n",
    "df_with_clusters[\"target_int\"] = df_with_clusters[\"target\"].astype(int)"
   ]
  },
  {
   "cell_type": "code",
   "execution_count": 22,
   "id": "c725569d",
   "metadata": {},
   "outputs": [
    {
     "data": {
      "text/html": [
       "<div>\n",
       "<style scoped>\n",
       "    .dataframe tbody tr th:only-of-type {\n",
       "        vertical-align: middle;\n",
       "    }\n",
       "\n",
       "    .dataframe tbody tr th {\n",
       "        vertical-align: top;\n",
       "    }\n",
       "\n",
       "    .dataframe thead th {\n",
       "        text-align: right;\n",
       "    }\n",
       "</style>\n",
       "<table border=\"1\" class=\"dataframe\">\n",
       "  <thead>\n",
       "    <tr style=\"text-align: right;\">\n",
       "      <th></th>\n",
       "      <th>enrollee_id</th>\n",
       "      <th>city_development_index</th>\n",
       "      <th>experience</th>\n",
       "      <th>company_size</th>\n",
       "      <th>last_new_job</th>\n",
       "      <th>training_hours</th>\n",
       "      <th>target</th>\n",
       "      <th>cluster_labels</th>\n",
       "      <th>target_int</th>\n",
       "    </tr>\n",
       "  </thead>\n",
       "  <tbody>\n",
       "    <tr>\n",
       "      <th>0</th>\n",
       "      <td>29725</td>\n",
       "      <td>0.776</td>\n",
       "      <td>15</td>\n",
       "      <td>2</td>\n",
       "      <td>5</td>\n",
       "      <td>47</td>\n",
       "      <td>0.0</td>\n",
       "      <td>0</td>\n",
       "      <td>0</td>\n",
       "    </tr>\n",
       "    <tr>\n",
       "      <th>1</th>\n",
       "      <td>666</td>\n",
       "      <td>0.767</td>\n",
       "      <td>21</td>\n",
       "      <td>2</td>\n",
       "      <td>4</td>\n",
       "      <td>8</td>\n",
       "      <td>0.0</td>\n",
       "      <td>0</td>\n",
       "      <td>0</td>\n",
       "    </tr>\n",
       "    <tr>\n",
       "      <th>2</th>\n",
       "      <td>28806</td>\n",
       "      <td>0.920</td>\n",
       "      <td>5</td>\n",
       "      <td>2</td>\n",
       "      <td>1</td>\n",
       "      <td>24</td>\n",
       "      <td>0.0</td>\n",
       "      <td>0</td>\n",
       "      <td>0</td>\n",
       "    </tr>\n",
       "    <tr>\n",
       "      <th>3</th>\n",
       "      <td>402</td>\n",
       "      <td>0.762</td>\n",
       "      <td>13</td>\n",
       "      <td>0</td>\n",
       "      <td>5</td>\n",
       "      <td>18</td>\n",
       "      <td>1.0</td>\n",
       "      <td>0</td>\n",
       "      <td>1</td>\n",
       "    </tr>\n",
       "    <tr>\n",
       "      <th>4</th>\n",
       "      <td>27107</td>\n",
       "      <td>0.920</td>\n",
       "      <td>7</td>\n",
       "      <td>2</td>\n",
       "      <td>1</td>\n",
       "      <td>46</td>\n",
       "      <td>1.0</td>\n",
       "      <td>0</td>\n",
       "      <td>1</td>\n",
       "    </tr>\n",
       "    <tr>\n",
       "      <th>...</th>\n",
       "      <td>...</td>\n",
       "      <td>...</td>\n",
       "      <td>...</td>\n",
       "      <td>...</td>\n",
       "      <td>...</td>\n",
       "      <td>...</td>\n",
       "      <td>...</td>\n",
       "      <td>...</td>\n",
       "      <td>...</td>\n",
       "    </tr>\n",
       "    <tr>\n",
       "      <th>12972</th>\n",
       "      <td>251</td>\n",
       "      <td>0.920</td>\n",
       "      <td>9</td>\n",
       "      <td>2</td>\n",
       "      <td>1</td>\n",
       "      <td>36</td>\n",
       "      <td>1.0</td>\n",
       "      <td>0</td>\n",
       "      <td>1</td>\n",
       "    </tr>\n",
       "    <tr>\n",
       "      <th>12973</th>\n",
       "      <td>32313</td>\n",
       "      <td>0.920</td>\n",
       "      <td>10</td>\n",
       "      <td>3</td>\n",
       "      <td>3</td>\n",
       "      <td>23</td>\n",
       "      <td>0.0</td>\n",
       "      <td>0</td>\n",
       "      <td>0</td>\n",
       "    </tr>\n",
       "    <tr>\n",
       "      <th>12974</th>\n",
       "      <td>29754</td>\n",
       "      <td>0.920</td>\n",
       "      <td>7</td>\n",
       "      <td>1</td>\n",
       "      <td>1</td>\n",
       "      <td>25</td>\n",
       "      <td>0.0</td>\n",
       "      <td>0</td>\n",
       "      <td>0</td>\n",
       "    </tr>\n",
       "    <tr>\n",
       "      <th>12975</th>\n",
       "      <td>24576</td>\n",
       "      <td>0.920</td>\n",
       "      <td>21</td>\n",
       "      <td>2</td>\n",
       "      <td>4</td>\n",
       "      <td>44</td>\n",
       "      <td>0.0</td>\n",
       "      <td>0</td>\n",
       "      <td>0</td>\n",
       "    </tr>\n",
       "    <tr>\n",
       "      <th>12976</th>\n",
       "      <td>5756</td>\n",
       "      <td>0.802</td>\n",
       "      <td>0</td>\n",
       "      <td>4</td>\n",
       "      <td>2</td>\n",
       "      <td>97</td>\n",
       "      <td>0.0</td>\n",
       "      <td>0</td>\n",
       "      <td>0</td>\n",
       "    </tr>\n",
       "  </tbody>\n",
       "</table>\n",
       "<p>12977 rows × 9 columns</p>\n",
       "</div>"
      ],
      "text/plain": [
       "       enrollee_id  city_development_index  experience  company_size  \\\n",
       "0            29725                   0.776          15             2   \n",
       "1              666                   0.767          21             2   \n",
       "2            28806                   0.920           5             2   \n",
       "3              402                   0.762          13             0   \n",
       "4            27107                   0.920           7             2   \n",
       "...            ...                     ...         ...           ...   \n",
       "12972          251                   0.920           9             2   \n",
       "12973        32313                   0.920          10             3   \n",
       "12974        29754                   0.920           7             1   \n",
       "12975        24576                   0.920          21             2   \n",
       "12976         5756                   0.802           0             4   \n",
       "\n",
       "       last_new_job  training_hours  target  cluster_labels  target_int  \n",
       "0                 5              47     0.0               0           0  \n",
       "1                 4               8     0.0               0           0  \n",
       "2                 1              24     0.0               0           0  \n",
       "3                 5              18     1.0               0           1  \n",
       "4                 1              46     1.0               0           1  \n",
       "...             ...             ...     ...             ...         ...  \n",
       "12972             1              36     1.0               0           1  \n",
       "12973             3              23     0.0               0           0  \n",
       "12974             1              25     0.0               0           0  \n",
       "12975             4              44     0.0               0           0  \n",
       "12976             2              97     0.0               0           0  \n",
       "\n",
       "[12977 rows x 9 columns]"
      ]
     },
     "execution_count": 22,
     "metadata": {},
     "output_type": "execute_result"
    }
   ],
   "source": [
    "df_with_clusters"
   ]
  },
  {
   "cell_type": "markdown",
   "id": "3e1318c6",
   "metadata": {},
   "source": [
    "# compare cluster labels w/ ground truth"
   ]
  },
  {
   "cell_type": "code",
   "execution_count": 23,
   "id": "379cadb8",
   "metadata": {},
   "outputs": [
    {
     "data": {
      "text/plain": [
       "array([[8657, 2038],\n",
       "       [1865,  417]], dtype=int64)"
      ]
     },
     "execution_count": 23,
     "metadata": {},
     "output_type": "execute_result"
    }
   ],
   "source": [
    "# via confusion amtrix\n",
    "from sklearn.metrics import confusion_matrix\n",
    "confusion_matrix(df_with_clusters[\"target_int\"], df_with_clusters[\"cluster_labels\"] )"
   ]
  },
  {
   "cell_type": "code",
   "execution_count": 24,
   "id": "5425c621",
   "metadata": {},
   "outputs": [
    {
     "name": "stdout",
     "output_type": "stream",
     "text": [
      "              precision    recall  f1-score   support\n",
      "\n",
      "           0       0.82      0.81      0.82     10695\n",
      "           1       0.17      0.18      0.18      2282\n",
      "\n",
      "    accuracy                           0.70     12977\n",
      "   macro avg       0.50      0.50      0.50     12977\n",
      "weighted avg       0.71      0.70      0.70     12977\n",
      "\n"
     ]
    }
   ],
   "source": [
    "# via classiciation report\n",
    "from sklearn.metrics import classification_report\n",
    "print(classification_report(df_with_clusters[\"target_int\"], df_with_clusters[\"cluster_labels\"]))"
   ]
  },
  {
   "cell_type": "code",
   "execution_count": 25,
   "id": "95bec76b",
   "metadata": {
    "scrolled": true
   },
   "outputs": [
    {
     "name": "stdout",
     "output_type": "stream",
     "text": [
      "Number of misclassifications out of 12977 points: 3903\n"
     ]
    }
   ],
   "source": [
    "# total_number of misclassifications\n",
    "print(\"Number of misclassifications out of %d points: %d\"\n",
    " % (X_scaled.shape[0], (df_with_clusters[\"target_int\"] != df_with_clusters[\"cluster_labels\"]).sum()))\n"
   ]
  },
  {
   "cell_type": "code",
   "execution_count": 26,
   "id": "1687dbcf",
   "metadata": {},
   "outputs": [
    {
     "data": {
      "text/plain": [
       "17054415.5567321"
      ]
     },
     "execution_count": 26,
     "metadata": {},
     "output_type": "execute_result"
    }
   ],
   "source": [
    "# inertia of cluster\n",
    "kmeans.inertia_"
   ]
  },
  {
   "cell_type": "markdown",
   "id": "0a3dbaa4",
   "metadata": {},
   "source": [
    "### Elbow method is a way of finding the best value for k (the number of centroids that we will use for K-means clustering)"
   ]
  },
  {
   "cell_type": "code",
   "execution_count": 27,
   "id": "380d2849",
   "metadata": {},
   "outputs": [],
   "source": [
    "# plot inertia for 2 - 20 clusters\n",
    "inertias = []\n",
    "for i in range(2,21):\n",
    "    kmeans = KMeans(n_clusters = i,  init='k-means++', random_state  = 47)\n",
    "    kmeans.fit(X_scaled)\n",
    "    inertias.append(kmeans.inertia_)"
   ]
  },
  {
   "cell_type": "code",
   "execution_count": 28,
   "id": "e0dec5bb",
   "metadata": {},
   "outputs": [
    {
     "data": {
      "text/plain": [
       "Text(0, 0.5, 'Inertia of kmeans')"
      ]
     },
     "execution_count": 28,
     "metadata": {},
     "output_type": "execute_result"
    },
    {
     "data": {
      "image/png": "[encoded data removed]",
      "text/plain": [
       "<Figure size 432x288 with 1 Axes>"
      ]
     },
     "metadata": {
      "needs_background": "light"
     },
     "output_type": "display_data"
    }
   ],
   "source": [
    "num_clusters = range(2,21)\n",
    "plt.plot(num_clusters,inertias)\n",
    "plt.title(\"Elbow method\")\n",
    "plt.xlabel(\"Number of clusters\")\n",
    "plt.ylabel(\"Inertia of kmeans\")"
   ]
  },
  {
   "cell_type": "code",
   "execution_count": 29,
   "id": "7d1e8a67",
   "metadata": {},
   "outputs": [],
   "source": [
    "plt.show()"
   ]
  },
  {
   "cell_type": "code",
   "execution_count": 30,
   "id": "98009b04",
   "metadata": {},
   "outputs": [
    {
     "data": {
      "text/plain": [
       "array([[-0.50342203,  0.63395707, -0.5747232 ,  1.69076217, -0.30839586],\n",
       "       [-0.57841303,  1.54600905, -0.5747232 ,  1.08113696, -0.95180478],\n",
       "       [ 0.69643399, -0.88612956, -0.5747232 , -0.74773864, -0.68784215],\n",
       "       ...,\n",
       "       [ 0.69643399, -0.58211224, -1.0314958 , -0.74773864, -0.67134448],\n",
       "       [ 0.69643399,  1.54600905, -0.5747232 ,  1.08113696, -0.35788885],\n",
       "       [-0.28678136, -1.64617288,  0.338822  , -0.13811344,  0.51648738]])"
      ]
     },
     "execution_count": 30,
     "metadata": {},
     "output_type": "execute_result"
    }
   ],
   "source": [
    "X_scaled"
   ]
  },
  {
   "cell_type": "code",
   "execution_count": 31,
   "id": "1f7921ea",
   "metadata": {},
   "outputs": [
    {
     "data": {
      "text/plain": [
       "(12977, 5)"
      ]
     },
     "execution_count": 31,
     "metadata": {},
     "output_type": "execute_result"
    }
   ],
   "source": [
    "X_scaled.shape"
   ]
  },
  {
   "cell_type": "code",
   "execution_count": 32,
   "id": "79673a0a",
   "metadata": {
    "scrolled": false
   },
   "outputs": [
    {
     "data": {
      "text/plain": [
       "<matplotlib.collections.PathCollection at 0x273ef1721f0>"
      ]
     },
     "execution_count": 32,
     "metadata": {},
     "output_type": "execute_result"
    },
    {
     "data": {
      "image/png": "[encoded data removed]",
      "text/plain": [
       "<Figure size 1080x576 with 1 Axes>"
      ]
     },
     "metadata": {
      "needs_background": "light"
     },
     "output_type": "display_data"
    }
   ],
   "source": [
    "# scatter plot training hours against expereince based on 2 cluster labels\n",
    "plt.figure(figsize = (15,8))\n",
    "plt.scatter(df_with_clusters[\"training_hours\"], df_with_clusters[\"experience\"], c = df_with_clusters[\"cluster_labels\"])"
   ]
  },
  {
   "cell_type": "markdown",
   "id": "7e4dc6ac",
   "metadata": {},
   "source": [
    "# Discussion:\n",
    "THe line of separation for these clusters is almost non existent, we might need to use softmax regression in the future!"
   ]
  },
  {
   "cell_type": "markdown",
   "id": "602a9f04",
   "metadata": {},
   "source": [
    "## Agglomerative Clustering"
   ]
  },
  {
   "cell_type": "code",
   "execution_count": 33,
   "id": "c0d53310",
   "metadata": {},
   "outputs": [],
   "source": [
    "from sklearn.preprocessing import normalize\n",
    "import scipy.cluster.hierarchy as shc\n",
    "# scale data for dendogram\n",
    "data_scaled = normalize(X)\n",
    "data_scaled = pd.DataFrame(data_scaled, columns = X.columns)\n"
   ]
  },
  {
   "cell_type": "code",
   "execution_count": null,
   "id": "f46dc37c",
   "metadata": {},
   "outputs": [],
   "source": [
    "# plot dendogram \n",
    "plt.figure(figsize = (10,8))\n",
    "plt.title(\"Dendograms\")\n",
    "dend = shc.dendrogram(shc.linkage(data_scaled, method = \"ward\"))\n",
    "plt.show()"
   ]
  },
  {
   "cell_type": "code",
   "execution_count": null,
   "id": "24e4dc36",
   "metadata": {},
   "outputs": [],
   "source": [
    "data_scaled.head()"
   ]
  },
  {
   "cell_type": "code",
   "execution_count": null,
   "id": "a366e49d",
   "metadata": {},
   "outputs": [],
   "source": [
    "# perform agglomerative clustering with 2 clusters\n",
    "from sklearn.cluster import AgglomerativeClustering\n",
    "cluster = AgglomerativeClustering(n_clusters = 2, affinity = \"euclidean\", linkage = 'ward')\n",
    "ag_clusters = cluster.fit_predict(X_scaled)\n",
    "ag_clusters"
   ]
  },
  {
   "cell_type": "code",
   "execution_count": null,
   "id": "c0f4366d",
   "metadata": {},
   "outputs": [],
   "source": [
    "# plot hours against training experience\n",
    "\n",
    "plt.scatter(data_scaled[\"experience\"], data_scaled[\"training_hours\"], c = ag_clusters )"
   ]
  },
  {
   "cell_type": "code",
   "execution_count": null,
   "id": "02eaa499",
   "metadata": {},
   "outputs": [],
   "source": [
    "# increase number of clusters to either 4 or \n",
    "plt.clf()\n",
    "cluster = AgglomerativeClustering(n_clusters = 5, affinity = \"euclidean\", linkage = 'ward')\n",
    "ag_clusters = cluster.fit_predict(X_scaled)\n",
    "ag_clusters\n",
    "\n",
    "plt.scatter(data_scaled[\"experience\"], data_scaled[\"training_hours\"], c = ag_clusters )"
   ]
  },
  {
   "cell_type": "code",
   "execution_count": null,
   "id": "aff5212c",
   "metadata": {},
   "outputs": [],
   "source": []
  }
 ],
 "metadata": {
  "kernelspec": {
   "display_name": "Python 3 (ipykernel)",
   "language": "python",
   "name": "python3"
  },
  "language_info": {
   "codemirror_mode": {
    "name": "ipython",
    "version": 3
   },
   "file_extension": ".py",
   "mimetype": "text/x-python",
   "name": "python",
   "nbconvert_exporter": "python",
   "pygments_lexer": "ipython3",
   "version": "3.9.7"
  }
 },
 "nbformat": 4,
 "nbformat_minor": 5
}
