{
 "cells": [
  {
   "cell_type": "markdown",
   "id": "7101dd46",
   "metadata": {},
   "source": [
    "## 1. Load Data & Perform General EDA"
   ]
  },
  {
   "cell_type": "code",
   "execution_count": 2,
   "id": "98e205e4",
   "metadata": {},
   "outputs": [],
   "source": [
    "# I. import libraries\n",
    "import pandas as pd\n",
    "import numpy as np\n",
    "\n",
    "%matplotlib inline\n",
    "import matplotlib.pyplot as plt\n",
    "\n",
    "import seaborn as sns\n",
    "\n",
    "import sklearn\n",
    "from sklearn.preprocessing import StandardScaler\n",
    "from sklearn.model_selection import train_test_split\n",
    "from sklearn.linear_model import LinearRegression\n",
    "\n",
    "from scipy import stats\n",
    "import missingno as msno"
   ]
  },
  {
   "cell_type": "code",
   "execution_count": 3,
   "id": "4d7c9822",
   "metadata": {},
   "outputs": [
    {
     "name": "stdout",
     "output_type": "stream",
     "text": [
      "Number of rows: 500\n",
      "Number of columns:9\n"
     ]
    }
   ],
   "source": [
    "# II. import the data to a dataframe and show number of rows & cols\n",
    "df = pd.read_csv('ecommerce.csv')\n",
    "print(\"Number of rows: \" + str(df.shape[0]))\n",
    "print(\"Number of columns:\" + str(df.shape[1]))"
   ]
  },
  {
   "cell_type": "code",
   "execution_count": 4,
   "id": "5bb82834",
   "metadata": {},
   "outputs": [
    {
     "data": {
      "text/html": [
       "<div>\n",
       "<style scoped>\n",
       "    .dataframe tbody tr th:only-of-type {\n",
       "        vertical-align: middle;\n",
       "    }\n",
       "\n",
       "    .dataframe tbody tr th {\n",
       "        vertical-align: top;\n",
       "    }\n",
       "\n",
       "    .dataframe thead th {\n",
       "        text-align: right;\n",
       "    }\n",
       "</style>\n",
       "<table border=\"1\" class=\"dataframe\">\n",
       "  <thead>\n",
       "    <tr style=\"text-align: right;\">\n",
       "      <th></th>\n",
       "      <th>Unnamed: 0</th>\n",
       "      <th>Email</th>\n",
       "      <th>Address</th>\n",
       "      <th>Credit Card</th>\n",
       "      <th>Avg. Session Length</th>\n",
       "      <th>Time on App</th>\n",
       "      <th>Time on Website</th>\n",
       "      <th>Length of Membership</th>\n",
       "      <th>Yearly Amount Spent</th>\n",
       "    </tr>\n",
       "  </thead>\n",
       "  <tbody>\n",
       "    <tr>\n",
       "      <th>0</th>\n",
       "      <td>0</td>\n",
       "      <td>adkv@ota.com</td>\n",
       "      <td>89280 Mark Lane\\nNew John, MN 16131</td>\n",
       "      <td>3544288738428794</td>\n",
       "      <td>35.497268</td>\n",
       "      <td>13.655651</td>\n",
       "      <td>40.577668</td>\n",
       "      <td>4.582621</td>\n",
       "      <td>588.951054</td>\n",
       "    </tr>\n",
       "    <tr>\n",
       "      <th>1</th>\n",
       "      <td>1</td>\n",
       "      <td>gjun@syj.com</td>\n",
       "      <td>363 Amanda Cliff Apt. 638\\nWest Angela, KS 31437</td>\n",
       "      <td>6546228325389133</td>\n",
       "      <td>32.926272</td>\n",
       "      <td>12.109461</td>\n",
       "      <td>38.268959</td>\n",
       "      <td>3.164034</td>\n",
       "      <td>393.204933</td>\n",
       "    </tr>\n",
       "    <tr>\n",
       "      <th>2</th>\n",
       "      <td>2</td>\n",
       "      <td>qjyr@pkk.com</td>\n",
       "      <td>62008 Adam Lodge\\nLake Pamela, NY 30677</td>\n",
       "      <td>4406395951712628314</td>\n",
       "      <td>34.000915</td>\n",
       "      <td>12.330278</td>\n",
       "      <td>38.110597</td>\n",
       "      <td>4.604543</td>\n",
       "      <td>488.547505</td>\n",
       "    </tr>\n",
       "    <tr>\n",
       "      <th>3</th>\n",
       "      <td>3</td>\n",
       "      <td>jkiu@xsb.com</td>\n",
       "      <td>950 Tami Island\\nLake Aimeeview, MT 93614</td>\n",
       "      <td>30334036663133</td>\n",
       "      <td>35.305557</td>\n",
       "      <td>14.717514</td>\n",
       "      <td>37.721283</td>\n",
       "      <td>3.620179</td>\n",
       "      <td>582.852344</td>\n",
       "    </tr>\n",
       "    <tr>\n",
       "      <th>4</th>\n",
       "      <td>4</td>\n",
       "      <td>stvb@niy.com</td>\n",
       "      <td>08254 Kelly Squares\\nNorth Lauren, AR 78382</td>\n",
       "      <td>3582080469154498</td>\n",
       "      <td>34.330673</td>\n",
       "      <td>13.795189</td>\n",
       "      <td>38.536653</td>\n",
       "      <td>4.946308</td>\n",
       "      <td>600.406092</td>\n",
       "    </tr>\n",
       "  </tbody>\n",
       "</table>\n",
       "</div>"
      ],
      "text/plain": [
       "   Unnamed: 0         Email                                           Address  \\\n",
       "0           0  adkv@ota.com               89280 Mark Lane\\nNew John, MN 16131   \n",
       "1           1  gjun@syj.com  363 Amanda Cliff Apt. 638\\nWest Angela, KS 31437   \n",
       "2           2  qjyr@pkk.com           62008 Adam Lodge\\nLake Pamela, NY 30677   \n",
       "3           3  jkiu@xsb.com         950 Tami Island\\nLake Aimeeview, MT 93614   \n",
       "4           4  stvb@niy.com       08254 Kelly Squares\\nNorth Lauren, AR 78382   \n",
       "\n",
       "           Credit Card  Avg. Session Length  Time on App  Time on Website  \\\n",
       "0     3544288738428794            35.497268    13.655651        40.577668   \n",
       "1     6546228325389133            32.926272    12.109461        38.268959   \n",
       "2  4406395951712628314            34.000915    12.330278        38.110597   \n",
       "3       30334036663133            35.305557    14.717514        37.721283   \n",
       "4     3582080469154498            34.330673    13.795189        38.536653   \n",
       "\n",
       "   Length of Membership  Yearly Amount Spent  \n",
       "0              4.582621           588.951054  \n",
       "1              3.164034           393.204933  \n",
       "2              4.604543           488.547505  \n",
       "3              3.620179           582.852344  \n",
       "4              4.946308           600.406092  "
      ]
     },
     "execution_count": 4,
     "metadata": {},
     "output_type": "execute_result"
    }
   ],
   "source": [
    "#III. Show the top 5 rows \n",
    "df.head()"
   ]
  },
  {
   "cell_type": "code",
   "execution_count": 5,
   "id": "af97dce5",
   "metadata": {},
   "outputs": [
    {
     "data": {
      "text/html": [
       "<div>\n",
       "<style scoped>\n",
       "    .dataframe tbody tr th:only-of-type {\n",
       "        vertical-align: middle;\n",
       "    }\n",
       "\n",
       "    .dataframe tbody tr th {\n",
       "        vertical-align: top;\n",
       "    }\n",
       "\n",
       "    .dataframe thead th {\n",
       "        text-align: right;\n",
       "    }\n",
       "</style>\n",
       "<table border=\"1\" class=\"dataframe\">\n",
       "  <thead>\n",
       "    <tr style=\"text-align: right;\">\n",
       "      <th></th>\n",
       "      <th>Unnamed: 0</th>\n",
       "      <th>Email</th>\n",
       "      <th>Address</th>\n",
       "      <th>Credit Card</th>\n",
       "      <th>Avg. Session Length</th>\n",
       "      <th>Time on App</th>\n",
       "      <th>Time on Website</th>\n",
       "      <th>Length of Membership</th>\n",
       "      <th>Yearly Amount Spent</th>\n",
       "    </tr>\n",
       "  </thead>\n",
       "  <tbody>\n",
       "    <tr>\n",
       "      <th>495</th>\n",
       "      <td>495</td>\n",
       "      <td>xskz@gwj.com</td>\n",
       "      <td>7083 Wallace Rest\\nNew Trevor, NM 70240</td>\n",
       "      <td>30206742023085</td>\n",
       "      <td>34.237660</td>\n",
       "      <td>14.566160</td>\n",
       "      <td>37.417985</td>\n",
       "      <td>4.246573</td>\n",
       "      <td>574.847438</td>\n",
       "    </tr>\n",
       "    <tr>\n",
       "      <th>496</th>\n",
       "      <td>496</td>\n",
       "      <td>awrc@iok.com</td>\n",
       "      <td>663 Christopher Garden\\nLake Carrieberg, PA 70796</td>\n",
       "      <td>6011536844623717</td>\n",
       "      <td>35.702529</td>\n",
       "      <td>12.695736</td>\n",
       "      <td>38.190268</td>\n",
       "      <td>4.076526</td>\n",
       "      <td>530.049004</td>\n",
       "    </tr>\n",
       "    <tr>\n",
       "      <th>497</th>\n",
       "      <td>497</td>\n",
       "      <td>pndt@jyr.com</td>\n",
       "      <td>1555 Chen Road\\nBergerchester, NH 46418</td>\n",
       "      <td>4086276267550896697</td>\n",
       "      <td>33.646777</td>\n",
       "      <td>12.499409</td>\n",
       "      <td>39.332576</td>\n",
       "      <td>5.458264</td>\n",
       "      <td>552.620145</td>\n",
       "    </tr>\n",
       "    <tr>\n",
       "      <th>498</th>\n",
       "      <td>498</td>\n",
       "      <td>zvtz@onj.com</td>\n",
       "      <td>5568 Robert Station Apt. 030\\nTurnerstad, GA 9...</td>\n",
       "      <td>36218092488069</td>\n",
       "      <td>34.322501</td>\n",
       "      <td>13.391423</td>\n",
       "      <td>37.840086</td>\n",
       "      <td>2.836485</td>\n",
       "      <td>457.469510</td>\n",
       "    </tr>\n",
       "    <tr>\n",
       "      <th>499</th>\n",
       "      <td>499</td>\n",
       "      <td>phqb@nlg.com</td>\n",
       "      <td>424 Mark Junctions\\nDarrellchester, TX 09088</td>\n",
       "      <td>5427200269739116</td>\n",
       "      <td>34.715981</td>\n",
       "      <td>13.418808</td>\n",
       "      <td>36.771016</td>\n",
       "      <td>3.235160</td>\n",
       "      <td>498.778642</td>\n",
       "    </tr>\n",
       "  </tbody>\n",
       "</table>\n",
       "</div>"
      ],
      "text/plain": [
       "     Unnamed: 0         Email  \\\n",
       "495         495  xskz@gwj.com   \n",
       "496         496  awrc@iok.com   \n",
       "497         497  pndt@jyr.com   \n",
       "498         498  zvtz@onj.com   \n",
       "499         499  phqb@nlg.com   \n",
       "\n",
       "                                               Address          Credit Card  \\\n",
       "495            7083 Wallace Rest\\nNew Trevor, NM 70240       30206742023085   \n",
       "496  663 Christopher Garden\\nLake Carrieberg, PA 70796     6011536844623717   \n",
       "497            1555 Chen Road\\nBergerchester, NH 46418  4086276267550896697   \n",
       "498  5568 Robert Station Apt. 030\\nTurnerstad, GA 9...       36218092488069   \n",
       "499       424 Mark Junctions\\nDarrellchester, TX 09088     5427200269739116   \n",
       "\n",
       "     Avg. Session Length  Time on App  Time on Website  Length of Membership  \\\n",
       "495            34.237660    14.566160        37.417985              4.246573   \n",
       "496            35.702529    12.695736        38.190268              4.076526   \n",
       "497            33.646777    12.499409        39.332576              5.458264   \n",
       "498            34.322501    13.391423        37.840086              2.836485   \n",
       "499            34.715981    13.418808        36.771016              3.235160   \n",
       "\n",
       "     Yearly Amount Spent  \n",
       "495           574.847438  \n",
       "496           530.049004  \n",
       "497           552.620145  \n",
       "498           457.469510  \n",
       "499           498.778642  "
      ]
     },
     "execution_count": 5,
     "metadata": {},
     "output_type": "execute_result"
    }
   ],
   "source": [
    "#III. Show the last 5 rows\n",
    "df.tail()"
   ]
  },
  {
   "cell_type": "code",
   "execution_count": 6,
   "id": "9e69ab27",
   "metadata": {},
   "outputs": [
    {
     "data": {
      "text/html": [
       "<div>\n",
       "<style scoped>\n",
       "    .dataframe tbody tr th:only-of-type {\n",
       "        vertical-align: middle;\n",
       "    }\n",
       "\n",
       "    .dataframe tbody tr th {\n",
       "        vertical-align: top;\n",
       "    }\n",
       "\n",
       "    .dataframe thead th {\n",
       "        text-align: right;\n",
       "    }\n",
       "</style>\n",
       "<table border=\"1\" class=\"dataframe\">\n",
       "  <thead>\n",
       "    <tr style=\"text-align: right;\">\n",
       "      <th></th>\n",
       "      <th>Unnamed: 0</th>\n",
       "      <th>Credit Card</th>\n",
       "      <th>Avg. Session Length</th>\n",
       "      <th>Time on App</th>\n",
       "      <th>Time on Website</th>\n",
       "      <th>Length of Membership</th>\n",
       "      <th>Yearly Amount Spent</th>\n",
       "    </tr>\n",
       "  </thead>\n",
       "  <tbody>\n",
       "    <tr>\n",
       "      <th>count</th>\n",
       "      <td>500.000000</td>\n",
       "      <td>5.000000e+02</td>\n",
       "      <td>500.000000</td>\n",
       "      <td>500.000000</td>\n",
       "      <td>500.000000</td>\n",
       "      <td>500.000000</td>\n",
       "      <td>500.000000</td>\n",
       "    </tr>\n",
       "    <tr>\n",
       "      <th>mean</th>\n",
       "      <td>249.500000</td>\n",
       "      <td>3.706324e+17</td>\n",
       "      <td>34.053194</td>\n",
       "      <td>13.052488</td>\n",
       "      <td>38.060445</td>\n",
       "      <td>4.033462</td>\n",
       "      <td>500.314038</td>\n",
       "    </tr>\n",
       "    <tr>\n",
       "      <th>std</th>\n",
       "      <td>144.481833</td>\n",
       "      <td>1.235588e+18</td>\n",
       "      <td>0.992563</td>\n",
       "      <td>0.994216</td>\n",
       "      <td>1.010489</td>\n",
       "      <td>0.999278</td>\n",
       "      <td>79.314782</td>\n",
       "    </tr>\n",
       "    <tr>\n",
       "      <th>min</th>\n",
       "      <td>0.000000</td>\n",
       "      <td>5.018057e+11</td>\n",
       "      <td>30.532429</td>\n",
       "      <td>9.508152</td>\n",
       "      <td>34.913847</td>\n",
       "      <td>0.769901</td>\n",
       "      <td>257.670582</td>\n",
       "    </tr>\n",
       "    <tr>\n",
       "      <th>25%</th>\n",
       "      <td>124.750000</td>\n",
       "      <td>3.683275e+13</td>\n",
       "      <td>33.341822</td>\n",
       "      <td>12.388153</td>\n",
       "      <td>37.349257</td>\n",
       "      <td>3.430450</td>\n",
       "      <td>446.038277</td>\n",
       "    </tr>\n",
       "    <tr>\n",
       "      <th>50%</th>\n",
       "      <td>249.500000</td>\n",
       "      <td>3.513612e+15</td>\n",
       "      <td>34.082008</td>\n",
       "      <td>12.983231</td>\n",
       "      <td>38.069367</td>\n",
       "      <td>4.033975</td>\n",
       "      <td>499.887875</td>\n",
       "    </tr>\n",
       "    <tr>\n",
       "      <th>75%</th>\n",
       "      <td>374.250000</td>\n",
       "      <td>4.777131e+15</td>\n",
       "      <td>34.711985</td>\n",
       "      <td>13.753850</td>\n",
       "      <td>38.716432</td>\n",
       "      <td>4.626502</td>\n",
       "      <td>550.313828</td>\n",
       "    </tr>\n",
       "    <tr>\n",
       "      <th>max</th>\n",
       "      <td>499.000000</td>\n",
       "      <td>4.959148e+18</td>\n",
       "      <td>37.139662</td>\n",
       "      <td>16.126994</td>\n",
       "      <td>41.005182</td>\n",
       "      <td>7.422689</td>\n",
       "      <td>766.518462</td>\n",
       "    </tr>\n",
       "  </tbody>\n",
       "</table>\n",
       "</div>"
      ],
      "text/plain": [
       "       Unnamed: 0   Credit Card  Avg. Session Length  Time on App  \\\n",
       "count  500.000000  5.000000e+02           500.000000   500.000000   \n",
       "mean   249.500000  3.706324e+17            34.053194    13.052488   \n",
       "std    144.481833  1.235588e+18             0.992563     0.994216   \n",
       "min      0.000000  5.018057e+11            30.532429     9.508152   \n",
       "25%    124.750000  3.683275e+13            33.341822    12.388153   \n",
       "50%    249.500000  3.513612e+15            34.082008    12.983231   \n",
       "75%    374.250000  4.777131e+15            34.711985    13.753850   \n",
       "max    499.000000  4.959148e+18            37.139662    16.126994   \n",
       "\n",
       "       Time on Website  Length of Membership  Yearly Amount Spent  \n",
       "count       500.000000            500.000000           500.000000  \n",
       "mean         38.060445              4.033462           500.314038  \n",
       "std           1.010489              0.999278            79.314782  \n",
       "min          34.913847              0.769901           257.670582  \n",
       "25%          37.349257              3.430450           446.038277  \n",
       "50%          38.069367              4.033975           499.887875  \n",
       "75%          38.716432              4.626502           550.313828  \n",
       "max          41.005182              7.422689           766.518462  "
      ]
     },
     "execution_count": 6,
     "metadata": {},
     "output_type": "execute_result"
    }
   ],
   "source": [
    "# IV. call the describe method of dataframe to see summary statistics of the numerical columnsnew\n",
    "new_df = df.select_dtypes(include = np.number)\n",
    "new_df.describe()"
   ]
  },
  {
   "cell_type": "markdown",
   "id": "31d59236",
   "metadata": {},
   "source": [
    "## Explain in words about the description of any two variables.\n",
    "\n",
    "### Credit card is not very reliable as numeric value, as its numbers are only used for identification, not quantitative purposes, same goes for Email and Address\n",
    "\n",
    "### Minimum length of membership can be less than a whole year (values have decimals, are not strictly ints)"
   ]
  },
  {
   "cell_type": "code",
   "execution_count": 7,
   "id": "42662aac",
   "metadata": {},
   "outputs": [
    {
     "data": {
      "text/plain": [
       "Unnamed: 0              0\n",
       "Email                   0\n",
       "Address                 0\n",
       "Credit Card             0\n",
       "Avg. Session Length     0\n",
       "Time on App             0\n",
       "Time on Website         0\n",
       "Length of Membership    0\n",
       "Yearly Amount Spent     0\n",
       "dtype: int64"
      ]
     },
     "execution_count": 7,
     "metadata": {},
     "output_type": "execute_result"
    }
   ],
   "source": [
    "# V. Missing value analysis\n",
    "\n",
    "#Show a list with column wise count of missing values and display the list in count wise descending order\n",
    "df.isnull().sum().sort_values(ascending = False)"
   ]
  },
  {
   "cell_type": "markdown",
   "id": "053f0a3c",
   "metadata": {},
   "source": [
    "## No missing values!"
   ]
  },
  {
   "cell_type": "code",
   "execution_count": 8,
   "id": "d90c031c",
   "metadata": {},
   "outputs": [
    {
     "data": {
      "text/plain": [
       "<seaborn.axisgrid.FacetGrid at 0x278922a3040>"
      ]
     },
     "execution_count": 8,
     "metadata": {},
     "output_type": "execute_result"
    },
    {
     "data": {
      "image/png": "[encoded data removed]",
      "text/plain": [
       "<Figure size 360x360 with 1 Axes>"
      ]
     },
     "metadata": {
      "needs_background": "light"
     },
     "output_type": "display_data"
    },
    {
     "data": {
      "image/png": "[encoded data removed]",
      "text/plain": [
       "<Figure size 360x360 with 1 Axes>"
      ]
     },
     "metadata": {
      "needs_background": "light"
     },
     "output_type": "display_data"
    },
    {
     "data": {
      "image/png": "[encoded data removed]",
      "text/plain": [
       "<Figure size 360x360 with 1 Axes>"
      ]
     },
     "metadata": {
      "needs_background": "light"
     },
     "output_type": "display_data"
    }
   ],
   "source": [
    "# VI. PLot various scatter plots to understand the data\n",
    "    # Yearly amount spent vs time on website\n",
    "sns.relplot(data = df, y = \"Time on Website\", x = \"Yearly Amount Spent\")\n",
    "    # Yearly amount spent vs time on app\n",
    "sns.relplot(data = df, y = \"Time on App\", x = \"Yearly Amount Spent\")\n",
    "    # Length of membership vs time on app\n",
    "sns.relplot(data = df, y = \"Time on App\", x = \"Length of Membership\")    \n",
    "    # IV. Seaborn pairplot "
   ]
  },
  {
   "cell_type": "markdown",
   "id": "552f570a",
   "metadata": {},
   "source": [
    "## Based on the plots, what feature is mostly correlated with the yearly amount spent?\n",
    "\n",
    "### Time on app (middle plot shows positive correlation)"
   ]
  },
  {
   "cell_type": "code",
   "execution_count": 9,
   "id": "621cf9e0",
   "metadata": {},
   "outputs": [
    {
     "data": {
      "text/plain": [
       "<AxesSubplot:>"
      ]
     },
     "execution_count": 9,
     "metadata": {},
     "output_type": "execute_result"
    },
    {
     "data": {
      "image/png": "[encoded data removed]",
      "text/plain": [
       "<Figure size 432x288 with 2 Axes>"
      ]
     },
     "metadata": {
      "needs_background": "light"
     },
     "output_type": "display_data"
    }
   ],
   "source": [
    "    # V. Plot sns heatmap based on correlation (annot = True)\n",
    "    sns.heatmap(df.corr(), annot = True)"
   ]
  },
  {
   "cell_type": "markdown",
   "id": "5789137c",
   "metadata": {},
   "source": [
    "## Which columns must be removed based on the above plot?\n",
    "\n",
    "### Unnamed (obviously), Credit Card, and Time on Website\n",
    "\n",
    "\n",
    "## Which column is the most interesting and related to yearly amount spent?\n",
    "\n",
    "### Length of Membership"
   ]
  },
  {
   "cell_type": "code",
   "execution_count": 10,
   "id": "fcf0f2f9",
   "metadata": {},
   "outputs": [
    {
     "data": {
      "text/plain": [
       "<seaborn.axisgrid.FacetGrid at 0x278923a8dc0>"
      ]
     },
     "execution_count": 10,
     "metadata": {},
     "output_type": "execute_result"
    },
    {
     "data": {
      "image/png": "[encoded data removed]",
      "text/plain": [
       "<Figure size 360x360 with 1 Axes>"
      ]
     },
     "metadata": {
      "needs_background": "light"
     },
     "output_type": "display_data"
    }
   ],
   "source": [
    "#VI. Generate a scatter plot based on the column from the above question against Yearly amount spent\n",
    "sns.relplot(data = df, y = \"Yearly Amount Spent\", x = \"Length of Membership\")"
   ]
  },
  {
   "cell_type": "markdown",
   "id": "3f50fe47",
   "metadata": {},
   "source": [
    "##  2. Feature Selection & Pre-processing"
   ]
  },
  {
   "cell_type": "code",
   "execution_count": 11,
   "id": "a50a3090",
   "metadata": {},
   "outputs": [],
   "source": [
    "# Drop unneccesary columns based on EDA & null analysis\n",
    "df = df.drop(labels = [\"Unnamed: 0\", \"Credit Card\", \"Time on Website\", \"Email\", \"Address\" ], axis = 1)"
   ]
  },
  {
   "cell_type": "markdown",
   "id": "d83b3484",
   "metadata": {},
   "source": [
    "## 3. X/Y & Train/Test Split"
   ]
  },
  {
   "cell_type": "code",
   "execution_count": 12,
   "id": "f6d51058",
   "metadata": {},
   "outputs": [
    {
     "data": {
      "text/plain": [
       "StandardScaler()"
      ]
     },
     "execution_count": 12,
     "metadata": {},
     "output_type": "execute_result"
    }
   ],
   "source": [
    "# I. Use sklearn's StandardScaler \n",
    "X = df[[\"Length of Membership\"]]\n",
    "y = df[[\"Yearly Amount Spent\"]]\n",
    "\n",
    "scaler = StandardScaler()\n",
    "scaler.fit(X)"
   ]
  },
  {
   "cell_type": "code",
   "execution_count": 13,
   "id": "eb4d4931",
   "metadata": {},
   "outputs": [],
   "source": [
    "# II. Split data into train & test sets using sklearn's train_test_split\n",
    "# 30% of the data should be in the test set, with random_stat = 101\n",
    "X_train, X_test, y_train, y_test = train_test_split(X,y,test_size = .3, random_state = 101)\n",
    "\n",
    "#Use sklearn's StandardScaler for scaling the X of training & test sets. But not for y (target) train and test\n",
    "X_train_scaled = scaler.transform(X_train)\n",
    "X_test_scaled = scaler.transform(X_test)"
   ]
  },
  {
   "cell_type": "markdown",
   "id": "d8406160",
   "metadata": {},
   "source": [
    "##  4. Training Linear Model using SKLearn's LinearRegression"
   ]
  },
  {
   "cell_type": "code",
   "execution_count": 14,
   "id": "ec88b371",
   "metadata": {},
   "outputs": [
    {
     "data": {
      "text/plain": [
       "LinearRegression()"
      ]
     },
     "execution_count": 14,
     "metadata": {},
     "output_type": "execute_result"
    }
   ],
   "source": [
    "# I. Train a linear model using SKLearn LinearRegression\n",
    "lr = LinearRegression()\n",
    "# fit to training data\n",
    "lr.fit(X_train_scaled,y_train)"
   ]
  },
  {
   "cell_type": "code",
   "execution_count": 15,
   "id": "38782300",
   "metadata": {},
   "outputs": [
    {
     "name": "stdout",
     "output_type": "stream",
     "text": [
      "Coefficient:  [[63.04345407]]\n",
      "Intercept:  [499.20662197]\n"
     ]
    }
   ],
   "source": [
    "# II. Show coefficient and intercept after training\n",
    "print(\"Coefficient: \", lr.coef_)\n",
    "print(\"Intercept: \", lr.intercept_)"
   ]
  },
  {
   "cell_type": "code",
   "execution_count": 16,
   "id": "342470c6",
   "metadata": {
    "scrolled": false
   },
   "outputs": [
    {
     "name": "stdout",
     "output_type": "stream",
     "text": [
      "Predicted value: \n",
      "[[371.83579601]\n",
      " [492.96075167]\n",
      " [492.60079547]\n",
      " [556.85492114]\n",
      " [597.18095979]\n",
      " [517.76796611]\n",
      " [550.33474479]\n",
      " [596.0338348 ]\n",
      " [475.60618837]\n",
      " [549.76249278]\n",
      " [383.88613297]\n",
      " [426.30464324]\n",
      " [520.52313863]\n",
      " [442.00103108]\n",
      " [615.6676527 ]\n",
      " [542.71690157]\n",
      " [636.40350294]\n",
      " [495.01031549]\n",
      " [498.08419864]\n",
      " [513.64378058]\n",
      " [531.60128609]\n",
      " [527.06059832]\n",
      " [390.37124373]\n",
      " [507.00733385]\n",
      " [547.47234306]\n",
      " [479.13717947]\n",
      " [495.32653849]\n",
      " [351.87390205]\n",
      " [494.71253898]\n",
      " [487.57296173]\n",
      " [532.74594446]\n",
      " [524.2877641 ]\n",
      " [442.36699929]\n",
      " [562.87881802]\n",
      " [493.48109308]\n",
      " [564.01579963]\n",
      " [495.28814651]\n",
      " [477.49162934]\n",
      " [385.12216808]\n",
      " [443.32544672]\n",
      " [621.02972961]\n",
      " [499.14698155]\n",
      " [576.05646422]\n",
      " [523.45641518]\n",
      " [462.83013518]\n",
      " [477.17641891]\n",
      " [590.88744087]\n",
      " [501.45389117]\n",
      " [460.55042748]\n",
      " [481.41539221]\n",
      " [514.88365584]\n",
      " [522.68590693]\n",
      " [325.92061651]\n",
      " [535.2716955 ]\n",
      " [577.86347433]\n",
      " [335.20258383]\n",
      " [523.09376666]\n",
      " [472.3953404 ]\n",
      " [485.5027917 ]\n",
      " [422.15386179]\n",
      " [503.24826379]\n",
      " [549.55491254]\n",
      " [713.24387886]\n",
      " [564.05981572]\n",
      " [509.08710624]\n",
      " [502.05935578]\n",
      " [438.14968491]\n",
      " [521.90541947]\n",
      " [622.51228922]\n",
      " [520.04457376]\n",
      " [483.43131747]\n",
      " [384.41581829]\n",
      " [589.18608861]\n",
      " [378.58323357]\n",
      " [447.17330242]\n",
      " [461.81729975]\n",
      " [478.30763542]\n",
      " [478.26156732]\n",
      " [496.33751782]\n",
      " [636.35381819]\n",
      " [459.65017958]\n",
      " [594.97481064]\n",
      " [514.8912009 ]\n",
      " [482.78527799]\n",
      " [538.66116671]\n",
      " [520.67054656]\n",
      " [536.99018342]\n",
      " [569.74952768]\n",
      " [482.02057831]\n",
      " [476.81858223]\n",
      " [466.47569445]\n",
      " [541.02304457]\n",
      " [427.56789559]\n",
      " [503.78341247]\n",
      " [489.30599233]\n",
      " [528.87954382]\n",
      " [494.04640067]\n",
      " [500.41840011]\n",
      " [425.59555291]\n",
      " [518.80827303]\n",
      " [337.23131847]\n",
      " [490.87436792]\n",
      " [611.67394155]\n",
      " [506.02931025]\n",
      " [486.75791916]\n",
      " [490.27619922]\n",
      " [494.32951925]\n",
      " [485.42448353]\n",
      " [531.73307991]\n",
      " [411.16873023]\n",
      " [569.29276541]\n",
      " [392.72622454]\n",
      " [483.68634942]\n",
      " [536.60049151]\n",
      " [592.12620997]\n",
      " [445.64237952]\n",
      " [558.90132399]\n",
      " [508.19869247]\n",
      " [536.01671895]\n",
      " [390.31754637]\n",
      " [367.22186288]\n",
      " [592.28102189]\n",
      " [465.24964993]\n",
      " [547.74130946]\n",
      " [488.96311454]\n",
      " [409.77808911]\n",
      " [520.13521596]\n",
      " [397.35812755]\n",
      " [519.54227632]\n",
      " [461.19896249]\n",
      " [407.65817334]\n",
      " [462.52828029]\n",
      " [509.82634537]\n",
      " [499.43790585]\n",
      " [516.25162347]\n",
      " [370.4297317 ]\n",
      " [457.36987765]\n",
      " [517.68300759]\n",
      " [541.67284787]\n",
      " [460.86911302]\n",
      " [515.04592685]\n",
      " [536.95997195]\n",
      " [566.27814108]\n",
      " [488.11616301]\n",
      " [523.52529657]\n",
      " [561.13753352]\n",
      " [473.50669572]\n",
      " [519.81675571]\n",
      " [428.93996415]\n",
      " [446.54401758]]\n"
     ]
    }
   ],
   "source": [
    "#III. Predict for the test data\n",
    "y_pred = lr.predict(X_test_scaled)\n",
    "print(\"Predicted value: \", y_pred , sep = \"\\n\")"
   ]
  },
  {
   "cell_type": "code",
   "execution_count": 17,
   "id": "5a74b4a1",
   "metadata": {
    "scrolled": true
   },
   "outputs": [
    {
     "data": {
      "image/png": "[encoded data removed]",
      "text/plain": [
       "<Figure size 432x288 with 1 Axes>"
      ]
     },
     "metadata": {
      "needs_background": "light"
     },
     "output_type": "display_data"
    }
   ],
   "source": [
    "#IV. Generate a scatter plot that shows the Y-test on x- axis and y-pridected in y- axis\n",
    "plt.scatter(y_test,y_pred, marker = 'o')\n",
    "plt.plot()\n",
    "plt.xlabel(\"Y test\")\n",
    "plt.ylabel(\"Y predicted\")\n",
    "plt.show()"
   ]
  },
  {
   "cell_type": "code",
   "execution_count": 18,
   "id": "47071c2e",
   "metadata": {},
   "outputs": [
    {
     "name": "stdout",
     "output_type": "stream",
     "text": [
      "MAE:  40.90606096474333\n",
      "MSE:  2551.5330908757346\n",
      "RMSE:  50.51270227255452\n",
      "R^2:  0.6484902730789126\n"
     ]
    }
   ],
   "source": [
    "#V. Use sklearn's metrics to print the value of MAE, MSE, RMSE, and R^2\n",
    "from sklearn.metrics import mean_absolute_error\n",
    "from sklearn.metrics import mean_squared_error\n",
    "from math import sqrt\n",
    "from sklearn.metrics import r2_score\n",
    "\n",
    "# print MAE (mean absolute error)\n",
    "print(\"MAE: \", mean_absolute_error(y_test, y_pred))\n",
    "\n",
    "# print MSE (mean squared error)\n",
    "print(\"MSE: \", mean_squared_error(y_test, y_pred))\n",
    "\n",
    "# print RMSE (root mean squared error)\n",
    "print(\"RMSE: \", sqrt(mean_squared_error(y_test, y_pred)))\n",
    "\n",
    "# print r^2\n",
    "print(\"R^2: \", r2_score(y_test,y_pred))"
   ]
  },
  {
   "cell_type": "code",
   "execution_count": 19,
   "id": "3f27c8ec",
   "metadata": {},
   "outputs": [],
   "source": [
    "# VI. Interpret the coefficient & which coefficient belongs to which feature and explain any strategy that should help the business"
   ]
  },
  {
   "cell_type": "markdown",
   "id": "dd1d0607",
   "metadata": {},
   "source": [
    "## 5. Normal Equation"
   ]
  },
  {
   "cell_type": "code",
   "execution_count": 20,
   "id": "83c174a0",
   "metadata": {},
   "outputs": [
    {
     "data": {
      "text/plain": [
       "(350, 1)"
      ]
     },
     "execution_count": 20,
     "metadata": {},
     "output_type": "execute_result"
    }
   ],
   "source": [
    "X_train_scaled.shape"
   ]
  },
  {
   "cell_type": "code",
   "execution_count": 21,
   "id": "e87ff317",
   "metadata": {
    "scrolled": true
   },
   "outputs": [],
   "source": [
    "from sklearn.datasets import make_regression\n",
    "#x, y = make_regression(n_samples = 100, n_features = 1, n_informative = 1, noise = 10, random_state = 10)\n",
    "x = X_train_scaled\n",
    "# convert target variable array from 1d to 2d\n",
    "y = y_train\n",
    "#  adding x0= 1 to each new instance\n",
    "x_new = np.array([np.ones(len(x)),x.flatten()]).T\n",
    "\n",
    "theta_best_values = np.linalg.inv(x_new.T.dot(x_new)).dot(x_new.T).dot(y)"
   ]
  },
  {
   "cell_type": "markdown",
   "id": "7dbf4b1a",
   "metadata": {},
   "source": [
    "## The coefficient we got from linear regression is very close to the 2nd theta value, but the intercept does not line up"
   ]
  },
  {
   "cell_type": "code",
   "execution_count": 22,
   "id": "9baacf38",
   "metadata": {},
   "outputs": [
    {
     "data": {
      "text/plain": [
       "array([[516.74946326],\n",
       "       [512.13789889],\n",
       "       [570.52971241],\n",
       "       [444.67342164],\n",
       "       [531.91447696],\n",
       "       [533.90205498],\n",
       "       [438.47416049],\n",
       "       [480.00767455],\n",
       "       [485.65167522],\n",
       "       [362.11657464],\n",
       "       [478.49700147],\n",
       "       [536.83228067],\n",
       "       [505.57733377],\n",
       "       [573.89317962],\n",
       "       [478.32499421],\n",
       "       [577.51799451],\n",
       "       [498.29539089],\n",
       "       [546.88814013],\n",
       "       [541.19574367],\n",
       "       [457.43054334],\n",
       "       [473.64116992],\n",
       "       [474.11442385],\n",
       "       [477.03186791],\n",
       "       [530.06540802],\n",
       "       [569.47347086],\n",
       "       [526.73822383],\n",
       "       [485.10402344],\n",
       "       [534.13641664],\n",
       "       [459.77102297],\n",
       "       [516.19771925],\n",
       "       [529.89915615],\n",
       "       [537.32143882],\n",
       "       [573.95617557],\n",
       "       [544.89862536],\n",
       "       [572.48027948],\n",
       "       [448.29001218],\n",
       "       [507.39392424],\n",
       "       [659.81484678],\n",
       "       [440.40088902],\n",
       "       [513.25217029],\n",
       "       [391.36935146],\n",
       "       [499.84354331],\n",
       "       [495.89748211],\n",
       "       [432.43435895],\n",
       "       [531.27427157],\n",
       "       [612.03641777],\n",
       "       [556.58627228],\n",
       "       [485.04289092],\n",
       "       [518.1970066 ],\n",
       "       [532.19193601],\n",
       "       [503.79307294],\n",
       "       [480.10385152],\n",
       "       [470.06910897],\n",
       "       [369.67498365],\n",
       "       [569.0440582 ],\n",
       "       [490.61170194],\n",
       "       [421.78773911],\n",
       "       [403.5141523 ],\n",
       "       [387.69679972],\n",
       "       [550.82890638],\n",
       "       [444.60888948],\n",
       "       [466.99980402],\n",
       "       [439.43345216],\n",
       "       [491.69432975],\n",
       "       [606.137612  ],\n",
       "       [594.22835262],\n",
       "       [477.87154264],\n",
       "       [474.17355069],\n",
       "       [564.93710419],\n",
       "       [575.56497879],\n",
       "       [459.86716351],\n",
       "       [449.04727126],\n",
       "       [503.68645124],\n",
       "       [519.21438712],\n",
       "       [432.15722296],\n",
       "       [425.16856323],\n",
       "       [499.16873213],\n",
       "       [454.15608167],\n",
       "       [474.32877629],\n",
       "       [481.81774211],\n",
       "       [451.79801534],\n",
       "       [472.3042265 ],\n",
       "       [427.78097393],\n",
       "       [451.87413269],\n",
       "       [505.78959188],\n",
       "       [480.46754332],\n",
       "       [416.51080514],\n",
       "       [498.72318265],\n",
       "       [519.29643204],\n",
       "       [549.53552369],\n",
       "       [566.55693597],\n",
       "       [515.95861738],\n",
       "       [458.89110429],\n",
       "       [479.30128418],\n",
       "       [488.46757679],\n",
       "       [514.05373448],\n",
       "       [478.57448502],\n",
       "       [448.09416125],\n",
       "       [412.44901634],\n",
       "       [396.93970911],\n",
       "       [578.50939448],\n",
       "       [501.92623184],\n",
       "       [515.5788601 ],\n",
       "       [418.30764399],\n",
       "       [533.58123029],\n",
       "       [530.52963485],\n",
       "       [427.32086559],\n",
       "       [573.64869156],\n",
       "       [463.76621688],\n",
       "       [366.29408113],\n",
       "       [530.42606608],\n",
       "       [489.07972895],\n",
       "       [540.23548897],\n",
       "       [598.97815616],\n",
       "       [414.3723906 ],\n",
       "       [515.08754562],\n",
       "       [534.21667897],\n",
       "       [519.4792612 ],\n",
       "       [429.96004395],\n",
       "       [589.84781027],\n",
       "       [439.88952078],\n",
       "       [506.52120265],\n",
       "       [494.08668376],\n",
       "       [536.53739824],\n",
       "       [444.30035355],\n",
       "       [529.19702238],\n",
       "       [466.94936522],\n",
       "       [457.76381921],\n",
       "       [443.55036554],\n",
       "       [499.07657558],\n",
       "       [347.45281116],\n",
       "       [423.61487472],\n",
       "       [617.86309263],\n",
       "       [493.7522494 ],\n",
       "       [447.94435092],\n",
       "       [569.89876756],\n",
       "       [522.63722103],\n",
       "       [415.93006119],\n",
       "       [529.87270011],\n",
       "       [459.53293285],\n",
       "       [607.90721382],\n",
       "       [471.31641128],\n",
       "       [515.44246279],\n",
       "       [555.59539826],\n",
       "       [617.42409804],\n",
       "       [487.36310302],\n",
       "       [417.84674798],\n",
       "       [542.215401  ],\n",
       "       [571.92991979],\n",
       "       [533.61488434],\n",
       "       [564.74293053],\n",
       "       [653.50685497],\n",
       "       [512.99104615],\n",
       "       [590.46247838],\n",
       "       [508.51436125],\n",
       "       [551.99589309],\n",
       "       [487.3409148 ],\n",
       "       [457.5978572 ],\n",
       "       [547.46912497],\n",
       "       [528.78237193],\n",
       "       [422.60858084],\n",
       "       [569.60478579],\n",
       "       [680.31249104],\n",
       "       [504.69476661],\n",
       "       [594.79135829],\n",
       "       [529.8521872 ],\n",
       "       [533.83558197],\n",
       "       [568.61087276],\n",
       "       [644.90159143],\n",
       "       [553.71900818],\n",
       "       [459.8360354 ],\n",
       "       [400.91307017],\n",
       "       [543.71849344],\n",
       "       [450.91982782],\n",
       "       [482.93053615],\n",
       "       [497.39869578],\n",
       "       [471.17121882],\n",
       "       [596.95037739],\n",
       "       [371.03242655],\n",
       "       [451.5935847 ],\n",
       "       [475.93392006],\n",
       "       [460.71908077],\n",
       "       [369.62806047],\n",
       "       [493.27846019],\n",
       "       [448.79207948],\n",
       "       [562.26569522],\n",
       "       [455.89982765],\n",
       "       [457.49748294],\n",
       "       [620.52214449],\n",
       "       [544.58430514],\n",
       "       [459.09473326],\n",
       "       [581.43505009],\n",
       "       [498.10710782],\n",
       "       [392.14776782],\n",
       "       [600.5252132 ],\n",
       "       [504.69410986],\n",
       "       [415.55216832],\n",
       "       [493.74750646],\n",
       "       [574.39350008],\n",
       "       [470.96973103],\n",
       "       [500.7445138 ],\n",
       "       [408.35774294],\n",
       "       [466.34037198],\n",
       "       [391.04891389],\n",
       "       [523.26276193],\n",
       "       [579.59232841],\n",
       "       [432.63649484],\n",
       "       [558.36894924],\n",
       "       [536.91489142],\n",
       "       [353.61870735],\n",
       "       [582.52845119],\n",
       "       [627.59024287],\n",
       "       [490.39317602],\n",
       "       [465.28775242],\n",
       "       [388.79837888],\n",
       "       [488.35400325],\n",
       "       [578.8321427 ],\n",
       "       [540.87844006],\n",
       "       [487.63825513],\n",
       "       [505.56176695],\n",
       "       [523.5733219 ],\n",
       "       [374.52458759],\n",
       "       [528.26895491],\n",
       "       [468.62416107],\n",
       "       [497.53346818],\n",
       "       [586.78971029],\n",
       "       [520.89395436],\n",
       "       [441.40363249],\n",
       "       [554.14326035],\n",
       "       [575.84361797],\n",
       "       [502.47153357],\n",
       "       [591.83714856],\n",
       "       [450.47839273],\n",
       "       [572.51755296],\n",
       "       [504.18160201],\n",
       "       [550.75884372],\n",
       "       [559.61427826],\n",
       "       [413.85989672],\n",
       "       [484.00816293],\n",
       "       [491.80192455],\n",
       "       [594.34504338],\n",
       "       [527.56259737],\n",
       "       [433.59665004],\n",
       "       [344.55465113],\n",
       "       [463.27530274],\n",
       "       [408.34953081],\n",
       "       [473.10689753],\n",
       "       [523.83770468],\n",
       "       [452.22136811],\n",
       "       [483.16625527],\n",
       "       [492.05071603],\n",
       "       [528.49623123],\n",
       "       [438.6743931 ],\n",
       "       [495.32008158],\n",
       "       [524.74544822],\n",
       "       [468.45648415],\n",
       "       [326.67817867],\n",
       "       [433.41527021],\n",
       "       [347.99696718],\n",
       "       [468.71997747],\n",
       "       [535.82004119],\n",
       "       [507.7804234 ],\n",
       "       [407.81819819],\n",
       "       [466.16211079],\n",
       "       [499.35445575],\n",
       "       [520.61336052],\n",
       "       [490.3977391 ],\n",
       "       [567.85023199],\n",
       "       [516.46040152],\n",
       "       [499.30936252],\n",
       "       [432.84287297],\n",
       "       [469.45602746],\n",
       "       [509.80152214],\n",
       "       [473.7611343 ],\n",
       "       [484.99620076],\n",
       "       [479.9613702 ],\n",
       "       [505.26155317],\n",
       "       [616.53167241],\n",
       "       [562.98220809],\n",
       "       [471.12298159],\n",
       "       [482.88866472],\n",
       "       [620.49095974],\n",
       "       [526.07351548],\n",
       "       [457.20828829],\n",
       "       [449.94552962],\n",
       "       [533.88723658],\n",
       "       [514.23423421],\n",
       "       [454.76249083],\n",
       "       [549.62744696],\n",
       "       [568.20760453],\n",
       "       [461.4489025 ],\n",
       "       [293.10553483],\n",
       "       [391.22476534],\n",
       "       [419.24262214],\n",
       "       [574.73812817],\n",
       "       [463.60005358],\n",
       "       [500.1901863 ],\n",
       "       [528.73041285],\n",
       "       [496.5309749 ],\n",
       "       [556.09489154],\n",
       "       [533.08494988],\n",
       "       [503.04839529],\n",
       "       [466.8859643 ],\n",
       "       [561.53103098],\n",
       "       [579.35746604],\n",
       "       [566.18935891],\n",
       "       [593.33327769],\n",
       "       [460.90345436],\n",
       "       [500.9593307 ],\n",
       "       [567.53509747],\n",
       "       [465.81684232],\n",
       "       [553.2645222 ],\n",
       "       [455.28309177],\n",
       "       [514.33205022],\n",
       "       [535.36717845],\n",
       "       [570.6189587 ],\n",
       "       [505.61874787],\n",
       "       [465.70408321],\n",
       "       [418.70174059],\n",
       "       [527.56201674],\n",
       "       [526.81008279],\n",
       "       [437.9083782 ],\n",
       "       [578.62983337],\n",
       "       [463.40545999],\n",
       "       [522.17219842],\n",
       "       [511.1486825 ],\n",
       "       [453.14037034],\n",
       "       [478.04669502],\n",
       "       [475.81695809],\n",
       "       [534.31100113],\n",
       "       [662.24906849],\n",
       "       [622.98785494],\n",
       "       [488.36673726],\n",
       "       [529.67915205],\n",
       "       [508.37176738],\n",
       "       [435.96488447],\n",
       "       [428.43631257],\n",
       "       [468.46150905],\n",
       "       [512.66508098],\n",
       "       [432.27376729],\n",
       "       [571.06209553],\n",
       "       [530.84112068],\n",
       "       [479.542234  ],\n",
       "       [473.13153523],\n",
       "       [488.66033944],\n",
       "       [491.70583496],\n",
       "       [544.06688076],\n",
       "       [463.92191445],\n",
       "       [510.55808484],\n",
       "       [579.7167859 ]])"
      ]
     },
     "execution_count": 22,
     "metadata": {},
     "output_type": "execute_result"
    }
   ],
   "source": [
    "# prepare the test set before prediction\n",
    "x_sample_new = np.array([np.ones(len(x)), x.flatten()]).T\n",
    "\n",
    "#perform prediction for the test set\n",
    "predict_value = x_sample_new.dot(theta_best_values)\n",
    "predict_value"
   ]
  },
  {
   "cell_type": "code",
   "execution_count": 23,
   "id": "11683f86",
   "metadata": {},
   "outputs": [
    {
     "data": {
      "text/plain": [
       "Text(0, 0.5, 'Y predicted')"
      ]
     },
     "execution_count": 23,
     "metadata": {},
     "output_type": "execute_result"
    },
    {
     "data": {
      "image/png": "[encoded data removed]",
      "text/plain": [
       "<Figure size 432x288 with 1 Axes>"
      ]
     },
     "metadata": {
      "needs_background": "light"
     },
     "output_type": "display_data"
    }
   ],
   "source": [
    "# generate a scatter lpot that shows Y-test on x axis and y pred on y axis\n",
    "plt.scatter(x, y, s=30, marker = 'o')\n",
    "plt.plot(x,predict_value, c = 'red')\n",
    "plt.xlabel(\"Y test\")\n",
    "plt.ylabel(\"Y predicted\")"
   ]
  },
  {
   "cell_type": "code",
   "execution_count": 24,
   "id": "9241de77",
   "metadata": {
    "scrolled": false
   },
   "outputs": [
    {
     "name": "stdout",
     "output_type": "stream",
     "text": [
      "MAE:  499.7149238163755\n",
      "MSE:  253443.1390209243\n",
      "RMSE:  503.4313647568299\n",
      "R^2:  -261685.28878517618\n"
     ]
    }
   ],
   "source": [
    "# use sklearn's metrics to print MAE, MSE, RMSE, and R^2\n",
    "\n",
    "# print MAE (mean absolute error)\n",
    "print(\"MAE: \", mean_absolute_error(x,predict_value))\n",
    "\n",
    "# print MSE (mean squared error)\n",
    "print(\"MSE: \", mean_squared_error(x,predict_value))\n",
    "\n",
    "# print RMSE (root mean squared error)\n",
    "print(\"RMSE: \", sqrt(mean_squared_error(x,predict_value)))\n",
    "\n",
    "# print r^2\n",
    "print(\"R^2: \", r2_score(x,predict_value))"
   ]
  },
  {
   "cell_type": "markdown",
   "id": "34af60f8",
   "metadata": {},
   "source": [
    "## What is the limitation of using the Normal Equation for regression?\n",
    "### Since the normal equation creates an inverse of a roughly n x n matrix, the algorithm for inverting the matrix runs O(n^2) so this method becomes computationally slow as the data set becomes larger."
   ]
  },
  {
   "cell_type": "markdown",
   "id": "a33e13f5",
   "metadata": {},
   "source": [
    "## 6. Batch Gradient Descent"
   ]
  },
  {
   "cell_type": "code",
   "execution_count": 25,
   "id": "54efaab0",
   "metadata": {},
   "outputs": [],
   "source": [
    "y_pred = np.empty(y_pred.shape)\n",
    "# implement batch gradient descent\n",
    "cost_list = []\n",
    "epoch_list = []\n",
    "pred_list = []\n",
    "\n",
    "eta = .1\n",
    "n_iterations = 1000\n",
    "m = 100\n",
    "X_b = np.array([np.ones(len(x)),x.flatten()]).T\n",
    "theta = np.random.randn(2,1)\n",
    "for iteration in range(n_iterations):\n",
    "    gradients = 2/m * X_b.T.dot(X_b.dot(theta)- y)\n",
    "    theta = theta - eta * gradients\n",
    "    y_pred = np.dot(theta.T, x_new.T).reshape((350,1))\n",
    "    # Calculate mean squared error (MSE)\n",
    "    cost = np.mean(np.square(y_train-y_pred)) \n",
    "    \n",
    "    if (iteration % 10 == 0):\n",
    "        cost_list.append(cost)\n",
    "        epoch_list.append(iteration)"
   ]
  },
  {
   "cell_type": "code",
   "execution_count": 26,
   "id": "d7eb5460",
   "metadata": {},
   "outputs": [
    {
     "data": {
      "text/plain": [
       "array([[499.20662197],\n",
       "       [ 63.04345407]])"
      ]
     },
     "execution_count": 26,
     "metadata": {},
     "output_type": "execute_result"
    }
   ],
   "source": [
    "#Display the theta values. \n",
    "#Are they very close to the sklearn's linear regression?\n",
    "theta"
   ]
  },
  {
   "cell_type": "markdown",
   "id": "c8bf2e38",
   "metadata": {},
   "source": [
    "## The theta values are very close to the ones obtained in linear regression!"
   ]
  },
  {
   "cell_type": "code",
   "execution_count": 27,
   "id": "9c6451ed",
   "metadata": {},
   "outputs": [
    {
     "data": {
      "text/plain": [
       "[<matplotlib.lines.Line2D at 0x27891b5adc0>]"
      ]
     },
     "execution_count": 27,
     "metadata": {},
     "output_type": "execute_result"
    },
    {
     "data": {
      "image/png": "[encoded data removed]",
      "text/plain": [
       "<Figure size 432x288 with 1 Axes>"
      ]
     },
     "metadata": {
      "needs_background": "light"
     },
     "output_type": "display_data"
    }
   ],
   "source": [
    "# plot step numbr (in x-axis) against the cost(y axis)\n",
    "\n",
    "plt.xlabel(\"epoch\")\n",
    "plt.ylabel(\"cost\")\n",
    "plt.plot(epoch_list,cost_list)"
   ]
  },
  {
   "cell_type": "code",
   "execution_count": 28,
   "id": "99300b29",
   "metadata": {},
   "outputs": [],
   "source": [
    "#Prepare the test set before prediction\n",
    "X_b = np.array([np.ones(len(X_test_scaled)),X_test_scaled.flatten()]).T\n",
    "\n",
    "# scale y data \n",
    "y_train_scaled = scaler.transform(y_train)\n",
    "y_test_scaled = scaler.transform(y_test)"
   ]
  },
  {
   "cell_type": "code",
   "execution_count": 29,
   "id": "b9e0dfad",
   "metadata": {
    "scrolled": true
   },
   "outputs": [
    {
     "data": {
      "text/plain": [
       "array([[365.37246317, 493.19839614, 492.81852615, 560.62737294,\n",
       "        603.18436284, 519.3780163 , 553.74648187, 601.97377562,\n",
       "        474.88372901, 553.14257125, 378.08945907, 422.85468207,\n",
       "        522.28561281, 439.41943877, 622.69379221, 545.70719788,\n",
       "        644.57680871, 495.36134767, 498.60528679, 515.02566909,\n",
       "        533.97663492, 529.18474337, 384.93334462, 508.02207523,\n",
       "        550.72572394, 478.61006458, 495.69506502, 344.30622041,\n",
       "        495.04709731, 487.51253834, 535.18461904, 526.25850807,\n",
       "        439.80565337, 566.98452894, 493.74752433, 568.18441161,\n",
       "        495.6545491 , 476.87347793, 379.39387516, 440.81712485,\n",
       "        628.35251448, 499.72686588, 580.89120004, 525.38116656,\n",
       "        461.40086819, 476.54082917, 596.54266853, 502.1614003 ,\n",
       "        458.99504056, 481.01431453, 516.33413777, 524.56803161,\n",
       "        316.91712525, 537.85010182, 582.79817909, 326.71259741,\n",
       "        524.9984553 , 471.49524779, 485.3278406 , 418.47426758,\n",
       "        504.05504272, 552.92350708, 725.66821294, 568.23086279,\n",
       "        510.21690655, 502.80036094, 435.35502516, 523.74436535,\n",
       "        629.91709351, 521.78057237, 483.14176652, 378.64844809,\n",
       "        594.74719262, 372.49318818, 444.87785487, 460.33199982,\n",
       "        477.73462779, 477.68601108, 496.76197461, 644.52437525,\n",
       "        458.04498839, 600.85616323, 516.34210025, 482.4599863 ,\n",
       "        541.42708823, 522.44117576, 539.66366138, 574.23534582,\n",
       "        481.65298126, 476.16319594, 465.24811017, 543.91963189,\n",
       "        424.18782113, 504.61979735, 489.34144512, 531.10431812,\n",
       "        494.34410634, 501.06862293, 422.10636285, 520.47587596,\n",
       "        328.85356743, 490.9965877 , 618.47913759, 506.98994459,\n",
       "        486.65240528, 490.36532662, 494.64288785, 485.2452002 ,\n",
       "        534.11571995, 406.88140726, 573.75331415, 387.41860967,\n",
       "        483.41090756, 539.25241061, 597.84996986, 443.26223696,\n",
       "        562.78698862, 509.2793432 , 538.63634209, 384.87667657,\n",
       "        360.50327413, 598.01334642, 463.95423738, 551.00957032,\n",
       "        488.97959835, 405.41383193, 521.87622915, 392.30676273,\n",
       "        521.2504864 , 459.67945438, 403.17663637, 461.08231383,\n",
       "        510.9970425 , 500.03388494, 517.77778527, 363.88861137,\n",
       "        455.63853366, 519.28835763, 544.60538416, 459.3313567 ,\n",
       "        516.50538608, 539.63177853, 570.57191223, 488.08579105,\n",
       "        525.45385867, 565.14691162, 472.66808645, 521.54015077,\n",
       "        425.63579643, 444.2137562 ]])"
      ]
     },
     "execution_count": 29,
     "metadata": {},
     "output_type": "execute_result"
    }
   ],
   "source": [
    "#Perform prediction for the test set\n",
    "theta = np.random.randn(2,1)\n",
    "for iteration in range(n_iterations):\n",
    "    gradients = 2/m * X_b.T.dot(X_b.dot(theta)- y_test_scaled)\n",
    "    theta = theta - eta * gradients\n",
    "    y_pred = np.dot(theta.T, X_b.T)\n",
    "y_pred"
   ]
  },
  {
   "cell_type": "code",
   "execution_count": 30,
   "id": "5a7f3a25",
   "metadata": {},
   "outputs": [
    {
     "data": {
      "text/plain": [
       "(1, 150)"
      ]
     },
     "execution_count": 30,
     "metadata": {},
     "output_type": "execute_result"
    }
   ],
   "source": [
    "y_pred.shape"
   ]
  },
  {
   "cell_type": "code",
   "execution_count": 31,
   "id": "e21e5e21",
   "metadata": {
    "scrolled": true
   },
   "outputs": [
    {
     "data": {
      "image/png": "[encoded data removed]",
      "text/plain": [
       "<Figure size 432x288 with 1 Axes>"
      ]
     },
     "metadata": {
      "needs_background": "light"
     },
     "output_type": "display_data"
    }
   ],
   "source": [
    "#IV. Generate a scatter plot that shows the Y-test on x- axis and y-pridected in y- axis\n",
    "plt.scatter(y_test,y_pred, marker = 'o')\n",
    "plt.plot()\n",
    "plt.xlabel(\"Y test\")\n",
    "plt.ylabel(\"Y predicted\")\n",
    "plt.show()"
   ]
  },
  {
   "cell_type": "code",
   "execution_count": 32,
   "id": "63df0e9d",
   "metadata": {},
   "outputs": [
    {
     "data": {
      "text/plain": [
       "(150, 1)"
      ]
     },
     "execution_count": 32,
     "metadata": {},
     "output_type": "execute_result"
    }
   ],
   "source": [
    "y_test.shape"
   ]
  },
  {
   "cell_type": "code",
   "execution_count": 33,
   "id": "20e95e35",
   "metadata": {},
   "outputs": [],
   "source": [
    "y_pred = y_pred.reshape(150,1)"
   ]
  },
  {
   "cell_type": "code",
   "execution_count": 34,
   "id": "af7516a0",
   "metadata": {},
   "outputs": [
    {
     "name": "stdout",
     "output_type": "stream",
     "text": [
      "MAE:  40.7967716913424\n",
      "MSE:  2535.792118506177\n",
      "RMSE:  50.35664919855348\n",
      "R^2:  0.6506588143840919\n"
     ]
    }
   ],
   "source": [
    "# print MAE (mean absolute error)\n",
    "print(\"MAE: \", mean_absolute_error(y_test, y_pred))\n",
    "\n",
    "# print MSE (mean squared error)\n",
    "print(\"MSE: \", mean_squared_error(y_test, y_pred))\n",
    "\n",
    "# print RMSE (root mean squared error)\n",
    "print(\"RMSE: \", sqrt(mean_squared_error(y_test, y_pred)))\n",
    "\n",
    "# print r^2\n",
    "print(\"R^2: \", r2_score(y_test,y_pred))"
   ]
  },
  {
   "cell_type": "markdown",
   "id": "9d8fe66e",
   "metadata": {},
   "source": [
    "## Short Question: How do derivatives help in the process of gradient descent?\n",
    "### Answer: Derivatives are used in order to define \"steps\" towards the local minimum of a given regression function. They help us determine our theta values at each point along the slope."
   ]
  },
  {
   "cell_type": "markdown",
   "id": "16d1dae5",
   "metadata": {},
   "source": [
    "## Advantages and Disadvantages of Batch Gradient Descent\n",
    "### Some advantages of BGD is that it is computationally efficient compared to running Linear Regressors and Normal Equation, and it generally runs faster than these as well. Some disadvantages are that it performs redundant computations on the data set and can also take a long time on very large data sets"
   ]
  },
  {
   "cell_type": "markdown",
   "id": "4c243471",
   "metadata": {},
   "source": [
    "# 7. Stochastic Gradient Descent"
   ]
  },
  {
   "cell_type": "code",
   "execution_count": 35,
   "id": "7ba357e0",
   "metadata": {},
   "outputs": [],
   "source": [
    "\n",
    "y_pred = np.empty(y_pred.shape)"
   ]
  },
  {
   "cell_type": "code",
   "execution_count": 36,
   "id": "12593d64",
   "metadata": {},
   "outputs": [],
   "source": [
    "# Implement Stochastic Gradient Descent and train our data set. \n",
    "m = len(X_train_scaled)\n",
    "n_epochs = 50\n",
    "t0, t1 = 5, 50\n",
    "\n",
    "cost_list = []\n",
    "epoch_list = []\n",
    "pred_list = []\n",
    "\n",
    "def learning_schedule(t):\n",
    "    return t0/ (t+t1)\n",
    "theta = np.random.randn(2,1)\n",
    "# perform prediction\n",
    "for epoch in range(n_epochs):\n",
    "    for i in range(m):\n",
    "        if i == 101:\n",
    "            i = 0\n",
    "        rand_index = np.random.randint(m)\n",
    "        xi = X_b[rand_index : rand_index +1]\n",
    "        yi = y_train_scaled[rand_index : rand_index + 1]\n",
    "        gradients = 2 * xi.T.dot(xi.dot(theta) - yi)\n",
    "        eta = learning_schedule(epoch * m + i)\n",
    "        theta = theta - eta * gradients\n",
    "    y_pred = np.dot(theta.T, X_b.T)\n",
    "    cost = np.mean(np.square(y_train_scaled-y_pred))\n",
    "    if epoch % 10 == 0:\n",
    "        cost_list.append(cost)\n",
    "        epoch_list.append(epoch)\n",
    "    "
   ]
  },
  {
   "cell_type": "code",
   "execution_count": 37,
   "id": "82902a80",
   "metadata": {},
   "outputs": [
    {
     "data": {
      "text/plain": [
       "array([[497.02226112],\n",
       "       [  4.82940055]])"
      ]
     },
     "execution_count": 37,
     "metadata": {},
     "output_type": "execute_result"
    }
   ],
   "source": [
    "theta"
   ]
  },
  {
   "cell_type": "markdown",
   "id": "a1441441",
   "metadata": {},
   "source": [
    "## Display the theta values. Are they very close to the sklearn's linear regression?\n",
    "### The first theta value is very close to the original coefficient we got from linear regression but the second (intercept) is not very close."
   ]
  },
  {
   "cell_type": "code",
   "execution_count": 38,
   "id": "8d03af55",
   "metadata": {},
   "outputs": [
    {
     "data": {
      "text/plain": [
       "[<matplotlib.lines.Line2D at 0x2789228f160>]"
      ]
     },
     "execution_count": 38,
     "metadata": {},
     "output_type": "execute_result"
    },
    {
     "data": {
      "image/png": "[encoded data removed]",
      "text/plain": [
       "<Figure size 432x288 with 1 Axes>"
      ]
     },
     "metadata": {
      "needs_background": "light"
     },
     "output_type": "display_data"
    }
   ],
   "source": [
    "# plot step against cost\n",
    "plt.xlabel(\"epoch\")\n",
    "plt.ylabel(\"cost\")\n",
    "plt.plot(epoch_list,cost_list)"
   ]
  },
  {
   "cell_type": "code",
   "execution_count": 39,
   "id": "c59bcd8e",
   "metadata": {},
   "outputs": [
    {
     "data": {
      "image/png": "[encoded data removed]",
      "text/plain": [
       "<Figure size 432x288 with 1 Axes>"
      ]
     },
     "metadata": {
      "needs_background": "light"
     },
     "output_type": "display_data"
    }
   ],
   "source": [
    "#IV. Generate a scatter plot that shows the Y-test on x- axis and y-pridected in y- axis\n",
    "plt.scatter(y_test,y_pred, marker = 'o')\n",
    "plt.plot()\n",
    "plt.xlabel(\"Y test\")\n",
    "plt.ylabel(\"Y predicted\")\n",
    "plt.show()"
   ]
  },
  {
   "cell_type": "code",
   "execution_count": 40,
   "id": "0372b977",
   "metadata": {},
   "outputs": [],
   "source": [
    "y_pred = y_pred.reshape(150,1)"
   ]
  },
  {
   "cell_type": "code",
   "execution_count": 41,
   "id": "9a5c8337",
   "metadata": {},
   "outputs": [
    {
     "name": "stdout",
     "output_type": "stream",
     "text": [
      "MAE:  63.964944434041804\n",
      "MSE:  6618.173544377079\n",
      "RMSE:  81.3521575889483\n",
      "R^2:  0.08825310413595144\n"
     ]
    }
   ],
   "source": [
    "# print MAE (mean absolute error)\n",
    "print(\"MAE: \", mean_absolute_error(y_test, y_pred))\n",
    "\n",
    "# print MSE (mean squared error)\n",
    "print(\"MSE: \", mean_squared_error(y_test, y_pred))\n",
    "\n",
    "# print RMSE (root mean squared error)\n",
    "print(\"RMSE: \", sqrt(mean_squared_error(y_test, y_pred)))\n",
    "\n",
    "# print r^2\n",
    "print(\"R^2: \", r2_score(y_test,y_pred))"
   ]
  },
  {
   "cell_type": "markdown",
   "id": "5af163b1",
   "metadata": {},
   "source": [
    "## What are the benefits and the limitations of using Stochastic gradient descent?\n",
    "### Some advantages are that is fast, and more effecient on larger data sets. Some disadvantages are that randomly picking instances can result in computational redundancy and missing several instances while repeating others. It generally converges more slowly"
   ]
  },
  {
   "cell_type": "markdown",
   "id": "f8b4b7a7",
   "metadata": {},
   "source": [
    "## 8. SGDRegressor"
   ]
  },
  {
   "cell_type": "code",
   "execution_count": 42,
   "id": "bbc04461",
   "metadata": {},
   "outputs": [
    {
     "data": {
      "text/plain": [
       "SGDRegressor()"
      ]
     },
     "execution_count": 42,
     "metadata": {},
     "output_type": "execute_result"
    }
   ],
   "source": [
    "# Use sklearn's SGDRegressor to train a model for our data set. Put a reasonable iteration and tolerance and learning steps so that we can get coefficients close to normal equation\n",
    "from sklearn.linear_model import SGDRegressor\n",
    "\n",
    "sgd_reg = SGDRegressor()\n",
    "sgd_reg.fit(X_train_scaled,y_train_scaled.ravel())"
   ]
  },
  {
   "cell_type": "code",
   "execution_count": 43,
   "id": "1ea48f68",
   "metadata": {},
   "outputs": [],
   "source": [
    "# Display the theta values. Are they very close to sklearn's linear regression?"
   ]
  },
  {
   "cell_type": "code",
   "execution_count": 44,
   "id": "45498dd7",
   "metadata": {},
   "outputs": [
    {
     "data": {
      "text/plain": [
       "array([495.96644459])"
      ]
     },
     "execution_count": 44,
     "metadata": {},
     "output_type": "execute_result"
    }
   ],
   "source": [
    "sgd_reg.intercept_"
   ]
  },
  {
   "cell_type": "code",
   "execution_count": 45,
   "id": "c77b9ae7",
   "metadata": {},
   "outputs": [
    {
     "data": {
      "text/plain": [
       "array([63.01223502])"
      ]
     },
     "execution_count": 45,
     "metadata": {},
     "output_type": "execute_result"
    }
   ],
   "source": [
    "sgd_reg.coef_"
   ]
  },
  {
   "cell_type": "markdown",
   "id": "50b0db9c",
   "metadata": {},
   "source": [
    "## Our theta values are very close to our original linear regression!"
   ]
  },
  {
   "cell_type": "code",
   "execution_count": 46,
   "id": "6e0e2104",
   "metadata": {},
   "outputs": [],
   "source": [
    "# Predict for the test data\n",
    "y_pred = sgd_reg.predict(X_test_scaled)"
   ]
  },
  {
   "cell_type": "code",
   "execution_count": 47,
   "id": "7c0e814f",
   "metadata": {},
   "outputs": [
    {
     "data": {
      "image/png": "[encoded data removed]",
      "text/plain": [
       "<Figure size 432x288 with 1 Axes>"
      ]
     },
     "metadata": {
      "needs_background": "light"
     },
     "output_type": "display_data"
    }
   ],
   "source": [
    "# Generate a scatter plot that shows the Y test on the x-axis and y predicted in the y-axis\n",
    "plt.scatter(y_test,y_pred, marker = 'o')\n",
    "plt.plot()\n",
    "plt.xlabel(\"Y test\")\n",
    "plt.ylabel(\"Y predicted\")\n",
    "plt.show()"
   ]
  },
  {
   "cell_type": "code",
   "execution_count": 48,
   "id": "d02882f0",
   "metadata": {},
   "outputs": [
    {
     "name": "stdout",
     "output_type": "stream",
     "text": [
      "MAE:  41.13395355355476\n",
      "MSE:  2586.172098302054\n",
      "RMSE:  50.85442063677507\n",
      "R^2:  0.6437182604858624\n"
     ]
    }
   ],
   "source": [
    "# print MAE (mean absolute error)\n",
    "print(\"MAE: \", mean_absolute_error(y_test, y_pred))\n",
    "\n",
    "# print MSE (mean squared error)\n",
    "print(\"MSE: \", mean_squared_error(y_test, y_pred))\n",
    "\n",
    "# print RMSE (root mean squared error)\n",
    "print(\"RMSE: \", sqrt(mean_squared_error(y_test, y_pred)))\n",
    "\n",
    "# print r^2\n",
    "print(\"R^2: \", r2_score(y_test,y_pred))"
   ]
  },
  {
   "cell_type": "markdown",
   "id": "08e7973f",
   "metadata": {},
   "source": [
    "# 9. Mini-batch Gradient Descent"
   ]
  },
  {
   "cell_type": "markdown",
   "id": "1244ee79",
   "metadata": {},
   "source": [
    "## Briefly explain how mini-batch can overcome the limitations of Batch gradient descent and SGD.\n",
    "### By computing gradients on small mini-batches (random sets of instances), it gives us a performance boost over SGD and BGD, and we will generally be a bit closer to the minimum than SGD. "
   ]
  },
  {
   "cell_type": "markdown",
   "id": "876e602b",
   "metadata": {},
   "source": [
    "# 10. Polynomial of degree 2 "
   ]
  },
  {
   "cell_type": "code",
   "execution_count": 49,
   "id": "ccefe61c",
   "metadata": {},
   "outputs": [],
   "source": [
    "#Use sklearn's Polynomial features to degree = 2 on our training and test set\n",
    "from sklearn.preprocessing import PolynomialFeatures\n",
    "poly_features = PolynomialFeatures(degree=2, include_bias = False)\n",
    "X_train_poly = poly_features.fit_transform(X_train_scaled)"
   ]
  },
  {
   "cell_type": "code",
   "execution_count": 50,
   "id": "8e4933b7",
   "metadata": {},
   "outputs": [
    {
     "data": {
      "text/plain": [
       "LinearRegression()"
      ]
     },
     "execution_count": 50,
     "metadata": {},
     "output_type": "execute_result"
    }
   ],
   "source": [
    "# Use linearRegression on the new polynomial features\n",
    "lin_reg = LinearRegression()\n",
    "lin_reg.fit(X_train_poly,y_train_scaled)"
   ]
  },
  {
   "cell_type": "code",
   "execution_count": 51,
   "id": "8941567a",
   "metadata": {},
   "outputs": [
    {
     "data": {
      "text/plain": [
       "(array([495.86252367]), array([[63.16360087,  0.17018884]]))"
      ]
     },
     "execution_count": 51,
     "metadata": {},
     "output_type": "execute_result"
    }
   ],
   "source": [
    "lin_reg.intercept_, lin_reg.coef_"
   ]
  },
  {
   "cell_type": "markdown",
   "id": "2b9cb472",
   "metadata": {},
   "source": [
    "## Our theta values are very close to our original linear regression!"
   ]
  },
  {
   "cell_type": "code",
   "execution_count": 52,
   "id": "a554bfa8",
   "metadata": {},
   "outputs": [],
   "source": [
    "#Predict for test set\n",
    "X_test_poly = poly_features.transform(X_test_scaled)\n",
    "y_new = lin_reg.predict(X_test_poly)"
   ]
  },
  {
   "cell_type": "code",
   "execution_count": 53,
   "id": "fa05c64f",
   "metadata": {},
   "outputs": [
    {
     "data": {
      "image/png": "[encoded data removed]",
      "text/plain": [
       "<Figure size 432x288 with 1 Axes>"
      ]
     },
     "metadata": {
      "needs_background": "light"
     },
     "output_type": "display_data"
    }
   ],
   "source": [
    "# Generate a scatter plot that shows the Y test on the x-axis and y predicted in the y-axis\n",
    "plt.scatter(y_test,y_new, marker = 'o')\n",
    "plt.plot()\n",
    "plt.xlabel(\"Y test\")\n",
    "plt.ylabel(\"Y predicted\")\n",
    "plt.show()"
   ]
  },
  {
   "cell_type": "code",
   "execution_count": 54,
   "id": "9318e229",
   "metadata": {},
   "outputs": [
    {
     "name": "stdout",
     "output_type": "stream",
     "text": [
      "MAE:  41.1012190142125\n",
      "MSE:  2581.448959567414\n",
      "RMSE:  50.80796157658182\n",
      "R^2:  0.6443689395669062\n"
     ]
    }
   ],
   "source": [
    "# print MAE (mean absolute error)\n",
    "print(\"MAE: \", mean_absolute_error(y_test, y_new))\n",
    "\n",
    "# print MSE (mean squared error)\n",
    "print(\"MSE: \", mean_squared_error(y_test, y_new))\n",
    "\n",
    "# print RMSE (root mean squared error)\n",
    "print(\"RMSE: \", sqrt(mean_squared_error(y_test, y_new)))\n",
    "\n",
    "# print r^2\n",
    "print(\"R^2: \", r2_score(y_test,y_new))"
   ]
  },
  {
   "cell_type": "markdown",
   "id": "8282117f",
   "metadata": {},
   "source": [
    "# 11. Polynomial of degree 3"
   ]
  },
  {
   "cell_type": "code",
   "execution_count": 55,
   "id": "64f1bc1c",
   "metadata": {},
   "outputs": [],
   "source": [
    "# Use sklearn's Polynomial features to degree = 3 on our training and test set\n",
    "poly_features = PolynomialFeatures(degree=3, include_bias = False)\n",
    "X_train_poly = poly_features.fit_transform(X_train_scaled)"
   ]
  },
  {
   "cell_type": "code",
   "execution_count": 56,
   "id": "9153b866",
   "metadata": {},
   "outputs": [
    {
     "data": {
      "text/plain": [
       "(array([495.68330235]), array([[60.58201415,  0.42630355,  0.83917808]]))"
      ]
     },
     "execution_count": 56,
     "metadata": {},
     "output_type": "execute_result"
    }
   ],
   "source": [
    "# Use linearRegression on the new polynomial features\n",
    "lin_reg = LinearRegression()\n",
    "lin_reg.fit(X_train_poly,y_train_scaled)\n",
    "lin_reg.intercept_, lin_reg.coef_"
   ]
  },
  {
   "cell_type": "markdown",
   "id": "3acd4cec",
   "metadata": {},
   "source": [
    "### Our theta values are very close to our original linear regression!¶"
   ]
  },
  {
   "cell_type": "code",
   "execution_count": 57,
   "id": "c1cafb9f",
   "metadata": {},
   "outputs": [],
   "source": [
    "# Predict for test set\n",
    "X_test_poly = poly_features.transform(X_test_scaled)\n",
    "y_new = lin_reg.predict(X_test_poly)"
   ]
  },
  {
   "cell_type": "code",
   "execution_count": 58,
   "id": "45c146e3",
   "metadata": {},
   "outputs": [
    {
     "data": {
      "image/png": "[encoded data removed]",
      "text/plain": [
       "<Figure size 432x288 with 1 Axes>"
      ]
     },
     "metadata": {
      "needs_background": "light"
     },
     "output_type": "display_data"
    }
   ],
   "source": [
    "# Generate a scatter plot that shows the Y test on the x-axis and y predicted in the y-axis\n",
    "plt.scatter(y_test,y_new, marker = 'o')\n",
    "plt.plot()\n",
    "plt.xlabel(\"Y test\")\n",
    "plt.ylabel(\"Y predicted\")\n",
    "plt.show()"
   ]
  },
  {
   "cell_type": "code",
   "execution_count": 59,
   "id": "22ae251d",
   "metadata": {},
   "outputs": [
    {
     "name": "stdout",
     "output_type": "stream",
     "text": [
      "MAE:  40.895180045340915\n",
      "MSE:  2562.242363984242\n",
      "RMSE:  50.61859701714619\n",
      "R^2:  0.6470149194261003\n"
     ]
    }
   ],
   "source": [
    "# print MAE (mean absolute error)\n",
    "print(\"MAE: \", mean_absolute_error(y_test, y_new))\n",
    "\n",
    "# print MSE (mean squared error)\n",
    "print(\"MSE: \", mean_squared_error(y_test, y_new))\n",
    "\n",
    "# print RMSE (root mean squared error)\n",
    "print(\"RMSE: \", sqrt(mean_squared_error(y_test, y_new)))\n",
    "\n",
    "# print r^2\n",
    "print(\"R^2: \", r2_score(y_test,y_new))"
   ]
  },
  {
   "cell_type": "markdown",
   "id": "78fa5a46",
   "metadata": {},
   "source": [
    "# 12. Learning Curve"
   ]
  },
  {
   "cell_type": "code",
   "execution_count": 60,
   "id": "d82b3215",
   "metadata": {},
   "outputs": [],
   "source": [
    "\n",
    "from sklearn.metrics import mean_squared_error\n",
    "from sklearn.model_selection import train_test_split"
   ]
  },
  {
   "cell_type": "code",
   "execution_count": 61,
   "id": "b4e608e6",
   "metadata": {},
   "outputs": [],
   "source": [
    "def plot_learning_curves(model):\n",
    "    train_errors, val_errors = [], []\n",
    "    for m in range(1, len(X_train)):\n",
    "        model.fit(X_train[:m], y_train[:m])\n",
    "        y_train_predict = model.predict(X_train[:m])\n",
    "        y_val_predict = model.predict(X_test)\n",
    "        train_errors.append(mean_squared_error(y_train[:m],y_train_predict))\n",
    "        val_errors.append(mean_squared_error(y_test,y_val_predict))\n",
    "    plt.plot(np.sqrt(train_errors), \"r-+\", linewidth = 2, label = \"train\")\n",
    "    plt.plot(np.sqrt(val_errors), \"b-\", linewidth = 3, label = \"val\")\n",
    "\n"
   ]
  },
  {
   "cell_type": "code",
   "execution_count": 62,
   "id": "da756724",
   "metadata": {},
   "outputs": [
    {
     "data": {
      "image/png": "[encoded data removed]",
      "text/plain": [
       "<Figure size 432x288 with 1 Axes>"
      ]
     },
     "metadata": {
      "needs_background": "light"
     },
     "output_type": "display_data"
    }
   ],
   "source": [
    "# Generate learning curve with linearRegression\n",
    "lin_reg = LinearRegression()\n",
    "plot_learning_curves(lin_reg)\n",
    "plt.axis([0, 100, 0, 100])\n",
    "plt.show()\n"
   ]
  },
  {
   "cell_type": "markdown",
   "id": "7cfe589f",
   "metadata": {},
   "source": [
    "## Interpret the result:\n",
    "### Naturally the performance on training and testing data is poor on the first instance, but gradually the performance plateaus until the data becomes noisy and nonlinear. At this point, adding more instances would not improve the performance of this model, and shows potential underfitting issues."
   ]
  },
  {
   "cell_type": "code",
   "execution_count": 63,
   "id": "1b1acc9e",
   "metadata": {},
   "outputs": [
    {
     "data": {
      "image/png": "[encoded data removed]",
      "text/plain": [
       "<Figure size 432x288 with 1 Axes>"
      ]
     },
     "metadata": {
      "needs_background": "light"
     },
     "output_type": "display_data"
    }
   ],
   "source": [
    "# generate learning curve w/ polynomial regression\n",
    "from sklearn.pipeline import Pipeline\n",
    "polynomial_reg = Pipeline([\n",
    "    (\"poly_features\", PolynomialFeatures(degree = 5, include_bias = False)),\n",
    "    (\"lin_reg\", LinearRegression()),\n",
    "])\n",
    "plot_learning_curves(polynomial_reg)\n",
    "plt.axis([0, 100, 0, 125])\n",
    "plt.show()"
   ]
  },
  {
   "cell_type": "markdown",
   "id": "a8357ba1",
   "metadata": {},
   "source": [
    "## Interpret the result: \n",
    "### The error on training data is much lower than that of our previous Linear Regression model, and the gap between the curves is (eventually) much larger than the previous. This gap shows possible overfitting, so we could overcome this by providing more training instances to the model."
   ]
  },
  {
   "cell_type": "markdown",
   "id": "c3fa561d",
   "metadata": {},
   "source": [
    "# 13. Regularization"
   ]
  },
  {
   "cell_type": "markdown",
   "id": "c6b4ce55",
   "metadata": {},
   "source": [
    "## The purpose of regularization: regularization helps us reduce error and prevent overfitting by properly fitting a function on a given training set and also reduces variance without adding a signficant bias."
   ]
  },
  {
   "cell_type": "markdown",
   "id": "af40f6fb",
   "metadata": {},
   "source": [
    "# 14. Ridge Regression"
   ]
  },
  {
   "cell_type": "code",
   "execution_count": 64,
   "id": "3560dd82",
   "metadata": {},
   "outputs": [],
   "source": [
    "# train ridge using polynomial degree 3 dataset\n",
    "from sklearn.linear_model import Ridge\n",
    "ridge_reg = Ridge(alpha = 1, solver = \"cholesky\")\n",
    "ridge_reg.fit(X_train_poly,y_train_scaled)\n",
    "# Predict for test set\n",
    "y_pred = ridge_reg.predict(X_test_poly)\n"
   ]
  },
  {
   "cell_type": "code",
   "execution_count": 65,
   "id": "7cd9f7b3",
   "metadata": {},
   "outputs": [
    {
     "data": {
      "image/png": "[encoded data removed]",
      "text/plain": [
       "<Figure size 432x288 with 1 Axes>"
      ]
     },
     "metadata": {
      "needs_background": "light"
     },
     "output_type": "display_data"
    }
   ],
   "source": [
    "# Generate a scatter plot that shows the Y test on the x-axis and y predicted in the y-axis\n",
    "plt.scatter(y_test,y_pred, marker = 'o')\n",
    "plt.plot()\n",
    "plt.xlabel(\"Y test\")\n",
    "plt.ylabel(\"Y predicted\")\n",
    "plt.show()"
   ]
  },
  {
   "cell_type": "code",
   "execution_count": 66,
   "id": "e84bc127",
   "metadata": {},
   "outputs": [
    {
     "name": "stdout",
     "output_type": "stream",
     "text": [
      "MAE:  40.887318202869054\n",
      "MSE:  2562.111981772858\n",
      "RMSE:  50.617309112326964\n",
      "R^2:  0.6470328814175332\n"
     ]
    }
   ],
   "source": [
    "# print MAE (mean absolute error)\n",
    "print(\"MAE: \", mean_absolute_error(y_test, y_pred))\n",
    "\n",
    "# print MSE (mean squared error)\n",
    "print(\"MSE: \", mean_squared_error(y_test, y_pred))\n",
    "\n",
    "# print RMSE (root mean squared error)\n",
    "print(\"RMSE: \", sqrt(mean_squared_error(y_test, y_pred)))\n",
    "\n",
    "# print r^2\n",
    "print(\"R^2: \", r2_score(y_test,y_pred))"
   ]
  },
  {
   "cell_type": "markdown",
   "id": "5e7ce7d9",
   "metadata": {},
   "source": [
    "# 15. SGDRegressor for Ridge"
   ]
  },
  {
   "cell_type": "code",
   "execution_count": 67,
   "id": "c20b39eb",
   "metadata": {},
   "outputs": [],
   "source": [
    "# Use sklearn's SGDRegressor for Ridge Regression\n",
    "sgd_reg = SGDRegressor(penalty = \"l2\")\n",
    "sgd_reg.fit(X_train_scaled,y_train_scaled.ravel())\n",
    "\n",
    "# Predict for test set\n",
    "y_pred = sgd_reg.predict(X_test_scaled)"
   ]
  },
  {
   "cell_type": "code",
   "execution_count": 68,
   "id": "d873c585",
   "metadata": {},
   "outputs": [
    {
     "data": {
      "image/png": "[encoded data removed]",
      "text/plain": [
       "<Figure size 432x288 with 1 Axes>"
      ]
     },
     "metadata": {
      "needs_background": "light"
     },
     "output_type": "display_data"
    }
   ],
   "source": [
    "# Generate a scatter plot that shows the Y test on the x-axis and y predicted in the y-axis\n",
    "plt.scatter(y_test,y_pred, marker = 'o')\n",
    "plt.plot()\n",
    "plt.xlabel(\"Y test\")\n",
    "plt.ylabel(\"Y predicted\")\n",
    "plt.show()"
   ]
  },
  {
   "cell_type": "code",
   "execution_count": 69,
   "id": "0340356d",
   "metadata": {},
   "outputs": [
    {
     "name": "stdout",
     "output_type": "stream",
     "text": [
      "MAE:  41.11879542768603\n",
      "MSE:  2583.940906691265\n",
      "RMSE:  50.83247885644831\n",
      "R^2:  0.6440256386486705\n"
     ]
    }
   ],
   "source": [
    "# print MAE (mean absolute error)\n",
    "print(\"MAE: \", mean_absolute_error(y_test, y_pred))\n",
    "\n",
    "# print MSE (mean squared error)\n",
    "print(\"MSE: \", mean_squared_error(y_test, y_pred))\n",
    "\n",
    "# print RMSE (root mean squared error)\n",
    "print(\"RMSE: \", sqrt(mean_squared_error(y_test, y_pred)))\n",
    "\n",
    "# print r^2\n",
    "print(\"R^2: \", r2_score(y_test,y_pred))"
   ]
  },
  {
   "cell_type": "markdown",
   "id": "8abc1372",
   "metadata": {},
   "source": [
    "# 16. Lasso Regression "
   ]
  },
  {
   "cell_type": "code",
   "execution_count": 70,
   "id": "3cc56775",
   "metadata": {},
   "outputs": [],
   "source": [
    "from sklearn.linear_model import Lasso\n",
    "lasso_reg =  Lasso(alpha = .1)\n",
    "lasso_reg.fit(X_train_scaled, y_train_scaled)\n",
    "y_pred = lasso_reg.predict(X_test_scaled)"
   ]
  },
  {
   "cell_type": "code",
   "execution_count": 71,
   "id": "10ac57d0",
   "metadata": {},
   "outputs": [
    {
     "data": {
      "image/png": "[encoded data removed]",
      "text/plain": [
       "<Figure size 432x288 with 1 Axes>"
      ]
     },
     "metadata": {
      "needs_background": "light"
     },
     "output_type": "display_data"
    }
   ],
   "source": [
    "plt.scatter(y_test_scaled,y_pred, marker = 'o')\n",
    "plt.plot()\n",
    "plt.xlabel(\"Y test\")\n",
    "plt.ylabel(\"Y predicted\")\n",
    "plt.show()"
   ]
  },
  {
   "cell_type": "code",
   "execution_count": 72,
   "id": "ba1a66eb",
   "metadata": {},
   "outputs": [
    {
     "name": "stdout",
     "output_type": "stream",
     "text": [
      "MAE:  41.12644360978626\n",
      "MSE:  2585.061202700001\n",
      "RMSE:  50.843497152536635\n",
      "R^2:  0.6438713020478598\n"
     ]
    }
   ],
   "source": [
    "# print MAE (mean absolute error)\n",
    "print(\"MAE: \", mean_absolute_error(y_test, y_pred))\n",
    "\n",
    "# print MSE (mean squared error)\n",
    "print(\"MSE: \", mean_squared_error(y_test, y_pred))\n",
    "\n",
    "# print RMSE (root mean squared error)\n",
    "print(\"RMSE: \", sqrt(mean_squared_error(y_test, y_pred)))\n",
    "\n",
    "# print r^2\n",
    "print(\"R^2: \", r2_score(y_test,y_pred))"
   ]
  },
  {
   "cell_type": "markdown",
   "id": "aba41987",
   "metadata": {},
   "source": [
    "# How Lasso perform the regularization and how does that affect the thetas?\n",
    "\n"
   ]
  },
  {
   "cell_type": "markdown",
   "id": "4e573883",
   "metadata": {},
   "source": [
    "# 17. Elastic Net"
   ]
  },
  {
   "cell_type": "code",
   "execution_count": 73,
   "id": "7e3f0c84",
   "metadata": {},
   "outputs": [],
   "source": [
    "# Use sklearn's ElasticNet\n",
    "\n",
    "from sklearn.linear_model import ElasticNet\n",
    "elastic_net = ElasticNet(alpha = .1, l1_ratio = .5)\n",
    "elastic_net.fit(X_train_scaled, y_train_scaled)\n",
    "\n",
    "# Predict for test set\n",
    "y_pred = elastic_net.predict(X_test_scaled)"
   ]
  },
  {
   "cell_type": "code",
   "execution_count": 74,
   "id": "a863ae11",
   "metadata": {},
   "outputs": [
    {
     "data": {
      "image/png": "[encoded data removed]",
      "text/plain": [
       "<Figure size 432x288 with 1 Axes>"
      ]
     },
     "metadata": {
      "needs_background": "light"
     },
     "output_type": "display_data"
    }
   ],
   "source": [
    "# Generate a scatter plot that shows the Y test in x axis and y predicted in y axis\n",
    "plt.scatter(y_test,y_pred, marker = 'o')\n",
    "plt.plot()\n",
    "plt.xlabel(\"Y test\")\n",
    "plt.ylabel(\"Y predicted\")\n",
    "plt.show()"
   ]
  },
  {
   "cell_type": "code",
   "execution_count": 75,
   "id": "7341e655",
   "metadata": {},
   "outputs": [
    {
     "name": "stdout",
     "output_type": "stream",
     "text": [
      "MAE:  41.32546460518151\n",
      "MSE:  2615.8946151277673\n",
      "RMSE:  51.14581718115146\n",
      "R^2:  0.6396235639247342\n"
     ]
    }
   ],
   "source": [
    "# print MAE (mean absolute error)\n",
    "print(\"MAE: \", mean_absolute_error(y_test, y_pred))\n",
    "\n",
    "# print MSE (mean squared error)\n",
    "print(\"MSE: \", mean_squared_error(y_test, y_pred))\n",
    "\n",
    "# print RMSE (root mean squared error)\n",
    "print(\"RMSE: \", sqrt(mean_squared_error(y_test, y_pred)))\n",
    "\n",
    "# print r^2\n",
    "print(\"R^2: \", r2_score(y_test,y_pred))"
   ]
  },
  {
   "cell_type": "markdown",
   "id": "f7a108d1",
   "metadata": {},
   "source": [
    "## How is ElasticNet different compared to Lasso and RIDGE perform the regularization and how does that affect the thetas?\n",
    "### Elastic Net's regularization is a combination of Ridge and Lasso Regression regularization methods. The difference is you can control r (the mix ratio). When r is 0, elastic net behaves the sames as ridge regression does, and when r is 1, it behaves just like lasso regression"
   ]
  }
 ],
 "metadata": {
  "kernelspec": {
   "display_name": "Python 3 (ipykernel)",
   "language": "python",
   "name": "python3"
  },
  "language_info": {
   "codemirror_mode": {
    "name": "ipython",
    "version": 3
   },
   "file_extension": ".py",
   "mimetype": "text/x-python",
   "name": "python",
   "nbconvert_exporter": "python",
   "pygments_lexer": "ipython3",
   "version": "3.9.7"
  }
 },
 "nbformat": 4,
 "nbformat_minor": 5
}
